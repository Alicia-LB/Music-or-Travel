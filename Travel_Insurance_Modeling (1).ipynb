{
  "cells": [
    {
      "cell_type": "markdown",
      "metadata": {
        "id": "2LgA0WKS4Cvi"
      },
      "source": [
        "#Travel Claim Insurance Predictions \n",
        "-Alicia Lizarraga\n",
        "* DataSet Source: https://www.kaggle.com/mhdzahier/travel-insurance/version/1"
      ]
    },
    {
      "cell_type": "markdown",
      "metadata": {
        "id": "NGub5aph4pcb"
      },
      "source": [
        "###DataSet Description: \n",
        "\n",
        "A third-party travel insurance servicing company that is based in Singapore.\n",
        "\n",
        "The attributes:\n",
        "\n",
        "Target: Claim Status (Claim.Status)\n",
        "Name of agency (Agency)\n",
        "Type of travel insurance agencies (Agency.Type)\n",
        "Distribution channel of travel insurance agencies (Distribution.Channel)\n",
        "Name of the travel insurance products (Product.Name)\n",
        "Duration of travel (Duration)\n",
        "Destination of travel (Destination)\n",
        "Amount of sales of travel insurance policies (Net.Sales)\n",
        "Commission received for travel insurance agency (Commission)\n",
        "Gender of insured (Gender)\n",
        "Age of insured (Age)\n"
      ]
    },
    {
      "cell_type": "markdown",
      "metadata": {
        "id": "dz33lKpC4yV6"
      },
      "source": [
        "###Objective: To see if clients have actually claimed their travel insurance and with which company."
      ]
    },
    {
      "cell_type": "markdown",
      "metadata": {
        "id": "RA1yZfZw5Ch4"
      },
      "source": [
        "##Importing & Mounting "
      ]
    },
    {
      "cell_type": "code",
      "execution_count": 33,
      "metadata": {
        "colab": {
          "base_uri": "https://localhost:8080/"
        },
        "id": "VSbozNHZ323K",
        "outputId": "150c21cb-8f7a-45c6-c21e-1e038387a780"
      },
      "outputs": [
        {
          "output_type": "stream",
          "name": "stdout",
          "text": [
            "Drive already mounted at /content/drive; to attempt to forcibly remount, call drive.mount(\"/content/drive\", force_remount=True).\n"
          ]
        }
      ],
      "source": [
        "from google.colab import drive\n",
        "drive.mount('/content/drive')"
      ]
    },
    {
      "cell_type": "markdown",
      "metadata": {
        "id": "JDRPGPkEvA_7"
      },
      "source": [
        "* Import needed libraries"
      ]
    },
    {
      "cell_type": "code",
      "execution_count": 34,
      "metadata": {
        "id": "JqqETX-ABBzJ"
      },
      "outputs": [],
      "source": [
        "import numpy as np\n",
        "import pandas as pd\n",
        "\n",
        "import matplotlib.pyplot as plt\n",
        "import seaborn as sns\n",
        "\n",
        "from sklearn.preprocessing import StandardScaler, OneHotEncoder\n",
        "from sklearn.impute import SimpleImputer\n",
        "from sklearn.compose import make_column_transformer, make_column_selector\n",
        "from sklearn.pipeline import make_pipeline\n",
        "from sklearn.model_selection import train_test_split, GridSearchCV\n",
        "from sklearn import set_config\n",
        "set_config(display='diagram')\n",
        "\n",
        "from sklearn.dummy import DummyClassifier\n",
        "from sklearn.tree import DecisionTreeClassifier, plot_tree\n",
        "from sklearn.ensemble import RandomForestClassifier\n",
        "from sklearn.neighbors import KNeighborsClassifier\n",
        "\n",
        "from sklearn import metrics\n",
        "from sklearn.linear_model import LinearRegression, LogisticRegression\n",
        "from sklearn.metrics import accuracy_score, recall_score, precision_score, \\\n",
        "f1_score, classification_report, plot_confusion_matrix, confusion_matrix"
      ]
    },
    {
      "cell_type": "markdown",
      "metadata": {
        "id": "LQvHYRRevFo7"
      },
      "source": [
        "* Upload data into notebook using pandas"
      ]
    },
    {
      "cell_type": "code",
      "execution_count": 35,
      "metadata": {
        "colab": {
          "base_uri": "https://localhost:8080/",
          "height": 206
        },
        "id": "wYFZm40zBlbD",
        "outputId": "360f00a2-c00c-4a00-d96f-cfceae17281a"
      },
      "outputs": [
        {
          "output_type": "execute_result",
          "data": {
            "text/plain": [
              "  Agency    Agency Type Distribution Channel                     Product Name  \\\n",
              "0    CBH  Travel Agency              Offline               Comprehensive Plan   \n",
              "1    CBH  Travel Agency              Offline               Comprehensive Plan   \n",
              "2    CWT  Travel Agency               Online  Rental Vehicle Excess Insurance   \n",
              "3    CWT  Travel Agency               Online  Rental Vehicle Excess Insurance   \n",
              "4    CWT  Travel Agency               Online  Rental Vehicle Excess Insurance   \n",
              "\n",
              "  Claim  Duration Destination  Net Sales  Commision (in value) Gender  Age  \n",
              "0    No       186    MALAYSIA      -29.0                  9.57      F   81  \n",
              "1    No       186    MALAYSIA      -29.0                  9.57      F   71  \n",
              "2    No        65   AUSTRALIA      -49.5                 29.70    NaN   32  \n",
              "3    No        60   AUSTRALIA      -39.6                 23.76    NaN   32  \n",
              "4    No        79       ITALY      -19.8                 11.88    NaN   41  "
            ],
            "text/html": [
              "\n",
              "  <div id=\"df-e1dd6794-ccf6-48e8-b3be-f9b490ec7379\">\n",
              "    <div class=\"colab-df-container\">\n",
              "      <div>\n",
              "<style scoped>\n",
              "    .dataframe tbody tr th:only-of-type {\n",
              "        vertical-align: middle;\n",
              "    }\n",
              "\n",
              "    .dataframe tbody tr th {\n",
              "        vertical-align: top;\n",
              "    }\n",
              "\n",
              "    .dataframe thead th {\n",
              "        text-align: right;\n",
              "    }\n",
              "</style>\n",
              "<table border=\"1\" class=\"dataframe\">\n",
              "  <thead>\n",
              "    <tr style=\"text-align: right;\">\n",
              "      <th></th>\n",
              "      <th>Agency</th>\n",
              "      <th>Agency Type</th>\n",
              "      <th>Distribution Channel</th>\n",
              "      <th>Product Name</th>\n",
              "      <th>Claim</th>\n",
              "      <th>Duration</th>\n",
              "      <th>Destination</th>\n",
              "      <th>Net Sales</th>\n",
              "      <th>Commision (in value)</th>\n",
              "      <th>Gender</th>\n",
              "      <th>Age</th>\n",
              "    </tr>\n",
              "  </thead>\n",
              "  <tbody>\n",
              "    <tr>\n",
              "      <th>0</th>\n",
              "      <td>CBH</td>\n",
              "      <td>Travel Agency</td>\n",
              "      <td>Offline</td>\n",
              "      <td>Comprehensive Plan</td>\n",
              "      <td>No</td>\n",
              "      <td>186</td>\n",
              "      <td>MALAYSIA</td>\n",
              "      <td>-29.0</td>\n",
              "      <td>9.57</td>\n",
              "      <td>F</td>\n",
              "      <td>81</td>\n",
              "    </tr>\n",
              "    <tr>\n",
              "      <th>1</th>\n",
              "      <td>CBH</td>\n",
              "      <td>Travel Agency</td>\n",
              "      <td>Offline</td>\n",
              "      <td>Comprehensive Plan</td>\n",
              "      <td>No</td>\n",
              "      <td>186</td>\n",
              "      <td>MALAYSIA</td>\n",
              "      <td>-29.0</td>\n",
              "      <td>9.57</td>\n",
              "      <td>F</td>\n",
              "      <td>71</td>\n",
              "    </tr>\n",
              "    <tr>\n",
              "      <th>2</th>\n",
              "      <td>CWT</td>\n",
              "      <td>Travel Agency</td>\n",
              "      <td>Online</td>\n",
              "      <td>Rental Vehicle Excess Insurance</td>\n",
              "      <td>No</td>\n",
              "      <td>65</td>\n",
              "      <td>AUSTRALIA</td>\n",
              "      <td>-49.5</td>\n",
              "      <td>29.70</td>\n",
              "      <td>NaN</td>\n",
              "      <td>32</td>\n",
              "    </tr>\n",
              "    <tr>\n",
              "      <th>3</th>\n",
              "      <td>CWT</td>\n",
              "      <td>Travel Agency</td>\n",
              "      <td>Online</td>\n",
              "      <td>Rental Vehicle Excess Insurance</td>\n",
              "      <td>No</td>\n",
              "      <td>60</td>\n",
              "      <td>AUSTRALIA</td>\n",
              "      <td>-39.6</td>\n",
              "      <td>23.76</td>\n",
              "      <td>NaN</td>\n",
              "      <td>32</td>\n",
              "    </tr>\n",
              "    <tr>\n",
              "      <th>4</th>\n",
              "      <td>CWT</td>\n",
              "      <td>Travel Agency</td>\n",
              "      <td>Online</td>\n",
              "      <td>Rental Vehicle Excess Insurance</td>\n",
              "      <td>No</td>\n",
              "      <td>79</td>\n",
              "      <td>ITALY</td>\n",
              "      <td>-19.8</td>\n",
              "      <td>11.88</td>\n",
              "      <td>NaN</td>\n",
              "      <td>41</td>\n",
              "    </tr>\n",
              "  </tbody>\n",
              "</table>\n",
              "</div>\n",
              "      <button class=\"colab-df-convert\" onclick=\"convertToInteractive('df-e1dd6794-ccf6-48e8-b3be-f9b490ec7379')\"\n",
              "              title=\"Convert this dataframe to an interactive table.\"\n",
              "              style=\"display:none;\">\n",
              "        \n",
              "  <svg xmlns=\"http://www.w3.org/2000/svg\" height=\"24px\"viewBox=\"0 0 24 24\"\n",
              "       width=\"24px\">\n",
              "    <path d=\"M0 0h24v24H0V0z\" fill=\"none\"/>\n",
              "    <path d=\"M18.56 5.44l.94 2.06.94-2.06 2.06-.94-2.06-.94-.94-2.06-.94 2.06-2.06.94zm-11 1L8.5 8.5l.94-2.06 2.06-.94-2.06-.94L8.5 2.5l-.94 2.06-2.06.94zm10 10l.94 2.06.94-2.06 2.06-.94-2.06-.94-.94-2.06-.94 2.06-2.06.94z\"/><path d=\"M17.41 7.96l-1.37-1.37c-.4-.4-.92-.59-1.43-.59-.52 0-1.04.2-1.43.59L10.3 9.45l-7.72 7.72c-.78.78-.78 2.05 0 2.83L4 21.41c.39.39.9.59 1.41.59.51 0 1.02-.2 1.41-.59l7.78-7.78 2.81-2.81c.8-.78.8-2.07 0-2.86zM5.41 20L4 18.59l7.72-7.72 1.47 1.35L5.41 20z\"/>\n",
              "  </svg>\n",
              "      </button>\n",
              "      \n",
              "  <style>\n",
              "    .colab-df-container {\n",
              "      display:flex;\n",
              "      flex-wrap:wrap;\n",
              "      gap: 12px;\n",
              "    }\n",
              "\n",
              "    .colab-df-convert {\n",
              "      background-color: #E8F0FE;\n",
              "      border: none;\n",
              "      border-radius: 50%;\n",
              "      cursor: pointer;\n",
              "      display: none;\n",
              "      fill: #1967D2;\n",
              "      height: 32px;\n",
              "      padding: 0 0 0 0;\n",
              "      width: 32px;\n",
              "    }\n",
              "\n",
              "    .colab-df-convert:hover {\n",
              "      background-color: #E2EBFA;\n",
              "      box-shadow: 0px 1px 2px rgba(60, 64, 67, 0.3), 0px 1px 3px 1px rgba(60, 64, 67, 0.15);\n",
              "      fill: #174EA6;\n",
              "    }\n",
              "\n",
              "    [theme=dark] .colab-df-convert {\n",
              "      background-color: #3B4455;\n",
              "      fill: #D2E3FC;\n",
              "    }\n",
              "\n",
              "    [theme=dark] .colab-df-convert:hover {\n",
              "      background-color: #434B5C;\n",
              "      box-shadow: 0px 1px 3px 1px rgba(0, 0, 0, 0.15);\n",
              "      filter: drop-shadow(0px 1px 2px rgba(0, 0, 0, 0.3));\n",
              "      fill: #FFFFFF;\n",
              "    }\n",
              "  </style>\n",
              "\n",
              "      <script>\n",
              "        const buttonEl =\n",
              "          document.querySelector('#df-e1dd6794-ccf6-48e8-b3be-f9b490ec7379 button.colab-df-convert');\n",
              "        buttonEl.style.display =\n",
              "          google.colab.kernel.accessAllowed ? 'block' : 'none';\n",
              "\n",
              "        async function convertToInteractive(key) {\n",
              "          const element = document.querySelector('#df-e1dd6794-ccf6-48e8-b3be-f9b490ec7379');\n",
              "          const dataTable =\n",
              "            await google.colab.kernel.invokeFunction('convertToInteractive',\n",
              "                                                     [key], {});\n",
              "          if (!dataTable) return;\n",
              "\n",
              "          const docLinkHtml = 'Like what you see? Visit the ' +\n",
              "            '<a target=\"_blank\" href=https://colab.research.google.com/notebooks/data_table.ipynb>data table notebook</a>'\n",
              "            + ' to learn more about interactive tables.';\n",
              "          element.innerHTML = '';\n",
              "          dataTable['output_type'] = 'display_data';\n",
              "          await google.colab.output.renderOutput(dataTable, element);\n",
              "          const docLink = document.createElement('div');\n",
              "          docLink.innerHTML = docLinkHtml;\n",
              "          element.appendChild(docLink);\n",
              "        }\n",
              "      </script>\n",
              "    </div>\n",
              "  </div>\n",
              "  "
            ]
          },
          "metadata": {},
          "execution_count": 35
        }
      ],
      "source": [
        "filename = '/content/travel insurance.csv.zip'\n",
        "df = pd.read_csv(filename)\n",
        "df.head()"
      ]
    },
    {
      "cell_type": "markdown",
      "metadata": {
        "id": "mm_4LDs9B7FJ"
      },
      "source": [
        "##EDA: Inspect Data"
      ]
    },
    {
      "cell_type": "markdown",
      "metadata": {
        "id": "GbpVrlGsvP7j"
      },
      "source": [
        "* Used 'info' to get a clear insight into data\n",
        "* Noticed Gender is missing a lot of data"
      ]
    },
    {
      "cell_type": "code",
      "execution_count": 36,
      "metadata": {
        "colab": {
          "base_uri": "https://localhost:8080/"
        },
        "id": "_dnSvsvpCQGX",
        "outputId": "cacd136c-4b7b-4e5a-ec69-f4475c9bfd9e"
      },
      "outputs": [
        {
          "output_type": "stream",
          "name": "stdout",
          "text": [
            "<class 'pandas.core.frame.DataFrame'>\n",
            "RangeIndex: 63326 entries, 0 to 63325\n",
            "Data columns (total 11 columns):\n",
            " #   Column                Non-Null Count  Dtype  \n",
            "---  ------                --------------  -----  \n",
            " 0   Agency                63326 non-null  object \n",
            " 1   Agency Type           63326 non-null  object \n",
            " 2   Distribution Channel  63326 non-null  object \n",
            " 3   Product Name          63326 non-null  object \n",
            " 4   Claim                 63326 non-null  object \n",
            " 5   Duration              63326 non-null  int64  \n",
            " 6   Destination           63326 non-null  object \n",
            " 7   Net Sales             63326 non-null  float64\n",
            " 8   Commision (in value)  63326 non-null  float64\n",
            " 9   Gender                18219 non-null  object \n",
            " 10  Age                   63326 non-null  int64  \n",
            "dtypes: float64(2), int64(2), object(7)\n",
            "memory usage: 5.3+ MB\n"
          ]
        }
      ],
      "source": [
        "df.info()"
      ]
    },
    {
      "cell_type": "markdown",
      "metadata": {
        "id": "95juarSdvgBF"
      },
      "source": [
        "* Another way to find only the missing values"
      ]
    },
    {
      "cell_type": "code",
      "execution_count": 37,
      "metadata": {
        "colab": {
          "base_uri": "https://localhost:8080/"
        },
        "id": "Jx51pD9zCnea",
        "outputId": "439164f0-b0d1-493f-c254-36aad10e25f3"
      },
      "outputs": [
        {
          "output_type": "execute_result",
          "data": {
            "text/plain": [
              "Agency                      0\n",
              "Agency Type                 0\n",
              "Distribution Channel        0\n",
              "Product Name                0\n",
              "Claim                       0\n",
              "Duration                    0\n",
              "Destination                 0\n",
              "Net Sales                   0\n",
              "Commision (in value)        0\n",
              "Gender                  45107\n",
              "Age                         0\n",
              "dtype: int64"
            ]
          },
          "metadata": {},
          "execution_count": 37
        }
      ],
      "source": [
        "df.isna().sum()"
      ]
    },
    {
      "cell_type": "markdown",
      "metadata": {
        "id": "Gzuw7oAhDEw4"
      },
      "source": [
        "* The column Gender may impact audience target for which sex might file a claim for travel insurance, but in case of the objective there's not too much relation in how Gender affects the socioeconomic reality of the claim being filed. As well it seems it may have been an optional choice to clients to volunteer their Gender information. So in this case with so many missing, we will drop the column for now, until I can find a better way to exclude them."
      ]
    },
    {
      "cell_type": "code",
      "execution_count": 38,
      "metadata": {
        "colab": {
          "base_uri": "https://localhost:8080/",
          "height": 206
        },
        "id": "_jkFs8foERz4",
        "outputId": "2bd78703-fc6c-4e90-ddf4-ce03096aed51"
      },
      "outputs": [
        {
          "output_type": "execute_result",
          "data": {
            "text/plain": [
              "  Agency    Agency Type Distribution Channel                     Product Name  \\\n",
              "0    CBH  Travel Agency              Offline               Comprehensive Plan   \n",
              "1    CBH  Travel Agency              Offline               Comprehensive Plan   \n",
              "2    CWT  Travel Agency               Online  Rental Vehicle Excess Insurance   \n",
              "3    CWT  Travel Agency               Online  Rental Vehicle Excess Insurance   \n",
              "4    CWT  Travel Agency               Online  Rental Vehicle Excess Insurance   \n",
              "\n",
              "  Claim  Duration Destination  Net Sales  Commision (in value)  Age  \n",
              "0    No       186    MALAYSIA      -29.0                  9.57   81  \n",
              "1    No       186    MALAYSIA      -29.0                  9.57   71  \n",
              "2    No        65   AUSTRALIA      -49.5                 29.70   32  \n",
              "3    No        60   AUSTRALIA      -39.6                 23.76   32  \n",
              "4    No        79       ITALY      -19.8                 11.88   41  "
            ],
            "text/html": [
              "\n",
              "  <div id=\"df-660fd7a6-7a92-4265-9357-f7cc91516487\">\n",
              "    <div class=\"colab-df-container\">\n",
              "      <div>\n",
              "<style scoped>\n",
              "    .dataframe tbody tr th:only-of-type {\n",
              "        vertical-align: middle;\n",
              "    }\n",
              "\n",
              "    .dataframe tbody tr th {\n",
              "        vertical-align: top;\n",
              "    }\n",
              "\n",
              "    .dataframe thead th {\n",
              "        text-align: right;\n",
              "    }\n",
              "</style>\n",
              "<table border=\"1\" class=\"dataframe\">\n",
              "  <thead>\n",
              "    <tr style=\"text-align: right;\">\n",
              "      <th></th>\n",
              "      <th>Agency</th>\n",
              "      <th>Agency Type</th>\n",
              "      <th>Distribution Channel</th>\n",
              "      <th>Product Name</th>\n",
              "      <th>Claim</th>\n",
              "      <th>Duration</th>\n",
              "      <th>Destination</th>\n",
              "      <th>Net Sales</th>\n",
              "      <th>Commision (in value)</th>\n",
              "      <th>Age</th>\n",
              "    </tr>\n",
              "  </thead>\n",
              "  <tbody>\n",
              "    <tr>\n",
              "      <th>0</th>\n",
              "      <td>CBH</td>\n",
              "      <td>Travel Agency</td>\n",
              "      <td>Offline</td>\n",
              "      <td>Comprehensive Plan</td>\n",
              "      <td>No</td>\n",
              "      <td>186</td>\n",
              "      <td>MALAYSIA</td>\n",
              "      <td>-29.0</td>\n",
              "      <td>9.57</td>\n",
              "      <td>81</td>\n",
              "    </tr>\n",
              "    <tr>\n",
              "      <th>1</th>\n",
              "      <td>CBH</td>\n",
              "      <td>Travel Agency</td>\n",
              "      <td>Offline</td>\n",
              "      <td>Comprehensive Plan</td>\n",
              "      <td>No</td>\n",
              "      <td>186</td>\n",
              "      <td>MALAYSIA</td>\n",
              "      <td>-29.0</td>\n",
              "      <td>9.57</td>\n",
              "      <td>71</td>\n",
              "    </tr>\n",
              "    <tr>\n",
              "      <th>2</th>\n",
              "      <td>CWT</td>\n",
              "      <td>Travel Agency</td>\n",
              "      <td>Online</td>\n",
              "      <td>Rental Vehicle Excess Insurance</td>\n",
              "      <td>No</td>\n",
              "      <td>65</td>\n",
              "      <td>AUSTRALIA</td>\n",
              "      <td>-49.5</td>\n",
              "      <td>29.70</td>\n",
              "      <td>32</td>\n",
              "    </tr>\n",
              "    <tr>\n",
              "      <th>3</th>\n",
              "      <td>CWT</td>\n",
              "      <td>Travel Agency</td>\n",
              "      <td>Online</td>\n",
              "      <td>Rental Vehicle Excess Insurance</td>\n",
              "      <td>No</td>\n",
              "      <td>60</td>\n",
              "      <td>AUSTRALIA</td>\n",
              "      <td>-39.6</td>\n",
              "      <td>23.76</td>\n",
              "      <td>32</td>\n",
              "    </tr>\n",
              "    <tr>\n",
              "      <th>4</th>\n",
              "      <td>CWT</td>\n",
              "      <td>Travel Agency</td>\n",
              "      <td>Online</td>\n",
              "      <td>Rental Vehicle Excess Insurance</td>\n",
              "      <td>No</td>\n",
              "      <td>79</td>\n",
              "      <td>ITALY</td>\n",
              "      <td>-19.8</td>\n",
              "      <td>11.88</td>\n",
              "      <td>41</td>\n",
              "    </tr>\n",
              "  </tbody>\n",
              "</table>\n",
              "</div>\n",
              "      <button class=\"colab-df-convert\" onclick=\"convertToInteractive('df-660fd7a6-7a92-4265-9357-f7cc91516487')\"\n",
              "              title=\"Convert this dataframe to an interactive table.\"\n",
              "              style=\"display:none;\">\n",
              "        \n",
              "  <svg xmlns=\"http://www.w3.org/2000/svg\" height=\"24px\"viewBox=\"0 0 24 24\"\n",
              "       width=\"24px\">\n",
              "    <path d=\"M0 0h24v24H0V0z\" fill=\"none\"/>\n",
              "    <path d=\"M18.56 5.44l.94 2.06.94-2.06 2.06-.94-2.06-.94-.94-2.06-.94 2.06-2.06.94zm-11 1L8.5 8.5l.94-2.06 2.06-.94-2.06-.94L8.5 2.5l-.94 2.06-2.06.94zm10 10l.94 2.06.94-2.06 2.06-.94-2.06-.94-.94-2.06-.94 2.06-2.06.94z\"/><path d=\"M17.41 7.96l-1.37-1.37c-.4-.4-.92-.59-1.43-.59-.52 0-1.04.2-1.43.59L10.3 9.45l-7.72 7.72c-.78.78-.78 2.05 0 2.83L4 21.41c.39.39.9.59 1.41.59.51 0 1.02-.2 1.41-.59l7.78-7.78 2.81-2.81c.8-.78.8-2.07 0-2.86zM5.41 20L4 18.59l7.72-7.72 1.47 1.35L5.41 20z\"/>\n",
              "  </svg>\n",
              "      </button>\n",
              "      \n",
              "  <style>\n",
              "    .colab-df-container {\n",
              "      display:flex;\n",
              "      flex-wrap:wrap;\n",
              "      gap: 12px;\n",
              "    }\n",
              "\n",
              "    .colab-df-convert {\n",
              "      background-color: #E8F0FE;\n",
              "      border: none;\n",
              "      border-radius: 50%;\n",
              "      cursor: pointer;\n",
              "      display: none;\n",
              "      fill: #1967D2;\n",
              "      height: 32px;\n",
              "      padding: 0 0 0 0;\n",
              "      width: 32px;\n",
              "    }\n",
              "\n",
              "    .colab-df-convert:hover {\n",
              "      background-color: #E2EBFA;\n",
              "      box-shadow: 0px 1px 2px rgba(60, 64, 67, 0.3), 0px 1px 3px 1px rgba(60, 64, 67, 0.15);\n",
              "      fill: #174EA6;\n",
              "    }\n",
              "\n",
              "    [theme=dark] .colab-df-convert {\n",
              "      background-color: #3B4455;\n",
              "      fill: #D2E3FC;\n",
              "    }\n",
              "\n",
              "    [theme=dark] .colab-df-convert:hover {\n",
              "      background-color: #434B5C;\n",
              "      box-shadow: 0px 1px 3px 1px rgba(0, 0, 0, 0.15);\n",
              "      filter: drop-shadow(0px 1px 2px rgba(0, 0, 0, 0.3));\n",
              "      fill: #FFFFFF;\n",
              "    }\n",
              "  </style>\n",
              "\n",
              "      <script>\n",
              "        const buttonEl =\n",
              "          document.querySelector('#df-660fd7a6-7a92-4265-9357-f7cc91516487 button.colab-df-convert');\n",
              "        buttonEl.style.display =\n",
              "          google.colab.kernel.accessAllowed ? 'block' : 'none';\n",
              "\n",
              "        async function convertToInteractive(key) {\n",
              "          const element = document.querySelector('#df-660fd7a6-7a92-4265-9357-f7cc91516487');\n",
              "          const dataTable =\n",
              "            await google.colab.kernel.invokeFunction('convertToInteractive',\n",
              "                                                     [key], {});\n",
              "          if (!dataTable) return;\n",
              "\n",
              "          const docLinkHtml = 'Like what you see? Visit the ' +\n",
              "            '<a target=\"_blank\" href=https://colab.research.google.com/notebooks/data_table.ipynb>data table notebook</a>'\n",
              "            + ' to learn more about interactive tables.';\n",
              "          element.innerHTML = '';\n",
              "          dataTable['output_type'] = 'display_data';\n",
              "          await google.colab.output.renderOutput(dataTable, element);\n",
              "          const docLink = document.createElement('div');\n",
              "          docLink.innerHTML = docLinkHtml;\n",
              "          element.appendChild(docLink);\n",
              "        }\n",
              "      </script>\n",
              "    </div>\n",
              "  </div>\n",
              "  "
            ]
          },
          "metadata": {},
          "execution_count": 38
        }
      ],
      "source": [
        "df.drop(columns = 'Gender', inplace = True)\n",
        "df.head()"
      ]
    },
    {
      "cell_type": "markdown",
      "metadata": {
        "id": "eaPHjvhYvqnn"
      },
      "source": [
        "* Checked for duplicates and dropped"
      ]
    },
    {
      "cell_type": "code",
      "execution_count": 39,
      "metadata": {
        "colab": {
          "base_uri": "https://localhost:8080/"
        },
        "id": "F1OSCDbdEHu5",
        "outputId": "6c4cccc6-23ef-456e-ff50-e459fcac7b44"
      },
      "outputs": [
        {
          "output_type": "execute_result",
          "data": {
            "text/plain": [
              "8670"
            ]
          },
          "metadata": {},
          "execution_count": 39
        }
      ],
      "source": [
        "df.duplicated().sum()"
      ]
    },
    {
      "cell_type": "code",
      "execution_count": 40,
      "metadata": {
        "colab": {
          "base_uri": "https://localhost:8080/"
        },
        "id": "WKt4HUKCEdVe",
        "outputId": "4805834c-284a-442e-9a4f-fdfba6c4ff83"
      },
      "outputs": [
        {
          "output_type": "execute_result",
          "data": {
            "text/plain": [
              "0"
            ]
          },
          "metadata": {},
          "execution_count": 40
        }
      ],
      "source": [
        "df = df.drop_duplicates(keep = False)\n",
        "df.duplicated().sum()"
      ]
    },
    {
      "cell_type": "markdown",
      "metadata": {
        "id": "p89dCBX-v0OO"
      },
      "source": [
        "* Visualize only the objects to see if there are any typos"
      ]
    },
    {
      "cell_type": "code",
      "execution_count": 41,
      "metadata": {
        "colab": {
          "base_uri": "https://localhost:8080/"
        },
        "id": "_GpJNlBlGM9T",
        "outputId": "1f3eb7f6-0062-48e5-a81b-ea9430d00d46"
      },
      "outputs": [
        {
          "output_type": "execute_result",
          "data": {
            "text/plain": [
              "Index(['Agency', 'Agency Type', 'Distribution Channel', 'Product Name',\n",
              "       'Claim', 'Destination'],\n",
              "      dtype='object')"
            ]
          },
          "metadata": {},
          "execution_count": 41
        }
      ],
      "source": [
        "data_types = df.dtypes\n",
        "str_cols = data_types[ data_types=='object'].index\n",
        "str_cols"
      ]
    },
    {
      "cell_type": "markdown",
      "metadata": {
        "id": "BWlKZCFfHAmQ"
      },
      "source": [
        "* From a glance it doesn't seem like there are any words or phrases that are inconsistent or misspelled"
      ]
    },
    {
      "cell_type": "code",
      "execution_count": 42,
      "metadata": {
        "colab": {
          "base_uri": "https://localhost:8080/"
        },
        "id": "bPOR_KMUGSYQ",
        "outputId": "997aa679-e232-47f5-cc7b-72655b87dd63"
      },
      "outputs": [
        {
          "output_type": "stream",
          "name": "stdout",
          "text": [
            "- Agency:\n",
            "EPX    25914\n",
            "CWT     7719\n",
            "C2B     6901\n",
            "JZI     5596\n",
            "SSI      875\n",
            "LWC      673\n",
            "RAB      517\n",
            "TST      428\n",
            "ART      317\n",
            "KML      252\n",
            "JWT      247\n",
            "CCR      159\n",
            "CBH       97\n",
            "TTW       86\n",
            "CSR       84\n",
            "ADM       82\n",
            "Name: Agency, dtype: int64\n",
            "\n",
            "\n",
            "\n",
            "- Agency Type:\n",
            "Travel Agency    35494\n",
            "Airlines         14453\n",
            "Name: Agency Type, dtype: int64\n",
            "\n",
            "\n",
            "\n",
            "- Distribution Channel:\n",
            "Online     49003\n",
            "Offline      944\n",
            "Name: Distribution Channel, dtype: int64\n",
            "\n",
            "\n",
            "\n",
            "- Product Name:\n",
            "Cancellation Plan                       13631\n",
            "2 way Comprehensive Plan                10049\n",
            "Rental Vehicle Excess Insurance          7719\n",
            "Basic Plan                               4748\n",
            "Bronze Plan                              3312\n",
            "1 way Comprehensive Plan                 2234\n",
            "Silver Plan                              2036\n",
            "Value Plan                               1877\n",
            "Annual Silver Plan                       1034\n",
            "Ticket Protector                          875\n",
            "Travel Cruise Protect                     427\n",
            "Gold Plan                                 342\n",
            "Comprehensive Plan                        325\n",
            "24 Protect                                237\n",
            "Single Trip Travel Protect Gold           198\n",
            "Annual Gold Plan                          177\n",
            "Single Trip Travel Protect Silver         169\n",
            "Premier Plan                              164\n",
            "Annual Travel Protect Gold                 94\n",
            "Annual Travel Protect Silver               86\n",
            "Single Trip Travel Protect Platinum        73\n",
            "Individual Comprehensive Plan              64\n",
            "Annual Travel Protect Platinum             53\n",
            "Spouse or Parents Comprehensive Plan       15\n",
            "Child Comprehensive Plan                    7\n",
            "Travel Cruise Protect Family                1\n",
            "Name: Product Name, dtype: int64\n",
            "\n",
            "\n",
            "\n",
            "- Claim:\n",
            "No     49038\n",
            "Yes      909\n",
            "Name: Claim, dtype: int64\n",
            "\n",
            "\n",
            "\n",
            "- Destination:\n",
            "SINGAPORE                 10242\n",
            "THAILAND                   4615\n",
            "MALAYSIA                   3762\n",
            "CHINA                      3312\n",
            "AUSTRALIA                  3269\n",
            "                          ...  \n",
            "SEYCHELLES                    1\n",
            "SAMOA                         1\n",
            "NIGERIA                       1\n",
            "DOMINICAN REPUBLIC            1\n",
            "BOSNIA AND HERZEGOVINA        1\n",
            "Name: Destination, Length: 149, dtype: int64\n",
            "\n",
            "\n",
            "\n"
          ]
        }
      ],
      "source": [
        "for col in str_cols:\n",
        "    print(f'- {col}:')\n",
        "    print(df[col].value_counts(dropna=False))\n",
        "    print(\"\\n\\n\")"
      ]
    },
    {
      "cell_type": "markdown",
      "metadata": {
        "id": "J1yYqh4Hv-fp"
      },
      "source": [
        "* Used 'describe' to see if any numeric values were off\n",
        "* Age column had a high of 118 years old for max and 0 for min\n",
        "* Net sales was in the negatives for min\n",
        "* Duration had -2 in min\n",
        "\n",
        "* Dropped these specific columns since they didn't make sense"
      ]
    },
    {
      "cell_type": "code",
      "execution_count": 43,
      "metadata": {
        "colab": {
          "base_uri": "https://localhost:8080/",
          "height": 300
        },
        "id": "CFLYFWmXH7lC",
        "outputId": "cebf8d3a-a36c-4667-b819-d603b04a5158"
      },
      "outputs": [
        {
          "output_type": "execute_result",
          "data": {
            "text/plain": [
              "           Duration     Net Sales  Commision (in value)           Age\n",
              "count  49947.000000  49947.000000          49947.000000  49947.000000\n",
              "mean      54.066991     43.505300             11.054156     39.928604\n",
              "std      108.678148     50.569755             21.164442     13.007587\n",
              "min       -2.000000   -389.000000              0.000000      0.000000\n",
              "25%       12.000000     19.800000              0.000000     34.000000\n",
              "50%       27.000000     29.700000              0.000000     36.000000\n",
              "75%       60.000000     53.500000             12.250000     45.000000\n",
              "max     4881.000000    810.000000            283.500000    118.000000"
            ],
            "text/html": [
              "\n",
              "  <div id=\"df-9d5b6da2-1897-4867-bc92-e81f82435c3e\">\n",
              "    <div class=\"colab-df-container\">\n",
              "      <div>\n",
              "<style scoped>\n",
              "    .dataframe tbody tr th:only-of-type {\n",
              "        vertical-align: middle;\n",
              "    }\n",
              "\n",
              "    .dataframe tbody tr th {\n",
              "        vertical-align: top;\n",
              "    }\n",
              "\n",
              "    .dataframe thead th {\n",
              "        text-align: right;\n",
              "    }\n",
              "</style>\n",
              "<table border=\"1\" class=\"dataframe\">\n",
              "  <thead>\n",
              "    <tr style=\"text-align: right;\">\n",
              "      <th></th>\n",
              "      <th>Duration</th>\n",
              "      <th>Net Sales</th>\n",
              "      <th>Commision (in value)</th>\n",
              "      <th>Age</th>\n",
              "    </tr>\n",
              "  </thead>\n",
              "  <tbody>\n",
              "    <tr>\n",
              "      <th>count</th>\n",
              "      <td>49947.000000</td>\n",
              "      <td>49947.000000</td>\n",
              "      <td>49947.000000</td>\n",
              "      <td>49947.000000</td>\n",
              "    </tr>\n",
              "    <tr>\n",
              "      <th>mean</th>\n",
              "      <td>54.066991</td>\n",
              "      <td>43.505300</td>\n",
              "      <td>11.054156</td>\n",
              "      <td>39.928604</td>\n",
              "    </tr>\n",
              "    <tr>\n",
              "      <th>std</th>\n",
              "      <td>108.678148</td>\n",
              "      <td>50.569755</td>\n",
              "      <td>21.164442</td>\n",
              "      <td>13.007587</td>\n",
              "    </tr>\n",
              "    <tr>\n",
              "      <th>min</th>\n",
              "      <td>-2.000000</td>\n",
              "      <td>-389.000000</td>\n",
              "      <td>0.000000</td>\n",
              "      <td>0.000000</td>\n",
              "    </tr>\n",
              "    <tr>\n",
              "      <th>25%</th>\n",
              "      <td>12.000000</td>\n",
              "      <td>19.800000</td>\n",
              "      <td>0.000000</td>\n",
              "      <td>34.000000</td>\n",
              "    </tr>\n",
              "    <tr>\n",
              "      <th>50%</th>\n",
              "      <td>27.000000</td>\n",
              "      <td>29.700000</td>\n",
              "      <td>0.000000</td>\n",
              "      <td>36.000000</td>\n",
              "    </tr>\n",
              "    <tr>\n",
              "      <th>75%</th>\n",
              "      <td>60.000000</td>\n",
              "      <td>53.500000</td>\n",
              "      <td>12.250000</td>\n",
              "      <td>45.000000</td>\n",
              "    </tr>\n",
              "    <tr>\n",
              "      <th>max</th>\n",
              "      <td>4881.000000</td>\n",
              "      <td>810.000000</td>\n",
              "      <td>283.500000</td>\n",
              "      <td>118.000000</td>\n",
              "    </tr>\n",
              "  </tbody>\n",
              "</table>\n",
              "</div>\n",
              "      <button class=\"colab-df-convert\" onclick=\"convertToInteractive('df-9d5b6da2-1897-4867-bc92-e81f82435c3e')\"\n",
              "              title=\"Convert this dataframe to an interactive table.\"\n",
              "              style=\"display:none;\">\n",
              "        \n",
              "  <svg xmlns=\"http://www.w3.org/2000/svg\" height=\"24px\"viewBox=\"0 0 24 24\"\n",
              "       width=\"24px\">\n",
              "    <path d=\"M0 0h24v24H0V0z\" fill=\"none\"/>\n",
              "    <path d=\"M18.56 5.44l.94 2.06.94-2.06 2.06-.94-2.06-.94-.94-2.06-.94 2.06-2.06.94zm-11 1L8.5 8.5l.94-2.06 2.06-.94-2.06-.94L8.5 2.5l-.94 2.06-2.06.94zm10 10l.94 2.06.94-2.06 2.06-.94-2.06-.94-.94-2.06-.94 2.06-2.06.94z\"/><path d=\"M17.41 7.96l-1.37-1.37c-.4-.4-.92-.59-1.43-.59-.52 0-1.04.2-1.43.59L10.3 9.45l-7.72 7.72c-.78.78-.78 2.05 0 2.83L4 21.41c.39.39.9.59 1.41.59.51 0 1.02-.2 1.41-.59l7.78-7.78 2.81-2.81c.8-.78.8-2.07 0-2.86zM5.41 20L4 18.59l7.72-7.72 1.47 1.35L5.41 20z\"/>\n",
              "  </svg>\n",
              "      </button>\n",
              "      \n",
              "  <style>\n",
              "    .colab-df-container {\n",
              "      display:flex;\n",
              "      flex-wrap:wrap;\n",
              "      gap: 12px;\n",
              "    }\n",
              "\n",
              "    .colab-df-convert {\n",
              "      background-color: #E8F0FE;\n",
              "      border: none;\n",
              "      border-radius: 50%;\n",
              "      cursor: pointer;\n",
              "      display: none;\n",
              "      fill: #1967D2;\n",
              "      height: 32px;\n",
              "      padding: 0 0 0 0;\n",
              "      width: 32px;\n",
              "    }\n",
              "\n",
              "    .colab-df-convert:hover {\n",
              "      background-color: #E2EBFA;\n",
              "      box-shadow: 0px 1px 2px rgba(60, 64, 67, 0.3), 0px 1px 3px 1px rgba(60, 64, 67, 0.15);\n",
              "      fill: #174EA6;\n",
              "    }\n",
              "\n",
              "    [theme=dark] .colab-df-convert {\n",
              "      background-color: #3B4455;\n",
              "      fill: #D2E3FC;\n",
              "    }\n",
              "\n",
              "    [theme=dark] .colab-df-convert:hover {\n",
              "      background-color: #434B5C;\n",
              "      box-shadow: 0px 1px 3px 1px rgba(0, 0, 0, 0.15);\n",
              "      filter: drop-shadow(0px 1px 2px rgba(0, 0, 0, 0.3));\n",
              "      fill: #FFFFFF;\n",
              "    }\n",
              "  </style>\n",
              "\n",
              "      <script>\n",
              "        const buttonEl =\n",
              "          document.querySelector('#df-9d5b6da2-1897-4867-bc92-e81f82435c3e button.colab-df-convert');\n",
              "        buttonEl.style.display =\n",
              "          google.colab.kernel.accessAllowed ? 'block' : 'none';\n",
              "\n",
              "        async function convertToInteractive(key) {\n",
              "          const element = document.querySelector('#df-9d5b6da2-1897-4867-bc92-e81f82435c3e');\n",
              "          const dataTable =\n",
              "            await google.colab.kernel.invokeFunction('convertToInteractive',\n",
              "                                                     [key], {});\n",
              "          if (!dataTable) return;\n",
              "\n",
              "          const docLinkHtml = 'Like what you see? Visit the ' +\n",
              "            '<a target=\"_blank\" href=https://colab.research.google.com/notebooks/data_table.ipynb>data table notebook</a>'\n",
              "            + ' to learn more about interactive tables.';\n",
              "          element.innerHTML = '';\n",
              "          dataTable['output_type'] = 'display_data';\n",
              "          await google.colab.output.renderOutput(dataTable, element);\n",
              "          const docLink = document.createElement('div');\n",
              "          docLink.innerHTML = docLinkHtml;\n",
              "          element.appendChild(docLink);\n",
              "        }\n",
              "      </script>\n",
              "    </div>\n",
              "  </div>\n",
              "  "
            ]
          },
          "metadata": {},
          "execution_count": 43
        }
      ],
      "source": [
        "df.describe()"
      ]
    },
    {
      "cell_type": "code",
      "execution_count": 44,
      "metadata": {
        "colab": {
          "base_uri": "https://localhost:8080/",
          "height": 80
        },
        "id": "vR7RoYN4IG8w",
        "outputId": "fd9525e3-6901-4a40-95c3-06b694e26971"
      },
      "outputs": [
        {
          "output_type": "execute_result",
          "data": {
            "text/plain": [
              "      Agency Agency Type Distribution Channel        Product Name Claim  \\\n",
              "16361    C2B    Airlines               Online  Annual Silver Plan    No   \n",
              "\n",
              "       Duration Destination  Net Sales  Commision (in value)  Age  \n",
              "16361       364   SINGAPORE     -389.0                 97.25   27  "
            ],
            "text/html": [
              "\n",
              "  <div id=\"df-589215cc-7b3b-4050-8db3-97eebda2b9ee\">\n",
              "    <div class=\"colab-df-container\">\n",
              "      <div>\n",
              "<style scoped>\n",
              "    .dataframe tbody tr th:only-of-type {\n",
              "        vertical-align: middle;\n",
              "    }\n",
              "\n",
              "    .dataframe tbody tr th {\n",
              "        vertical-align: top;\n",
              "    }\n",
              "\n",
              "    .dataframe thead th {\n",
              "        text-align: right;\n",
              "    }\n",
              "</style>\n",
              "<table border=\"1\" class=\"dataframe\">\n",
              "  <thead>\n",
              "    <tr style=\"text-align: right;\">\n",
              "      <th></th>\n",
              "      <th>Agency</th>\n",
              "      <th>Agency Type</th>\n",
              "      <th>Distribution Channel</th>\n",
              "      <th>Product Name</th>\n",
              "      <th>Claim</th>\n",
              "      <th>Duration</th>\n",
              "      <th>Destination</th>\n",
              "      <th>Net Sales</th>\n",
              "      <th>Commision (in value)</th>\n",
              "      <th>Age</th>\n",
              "    </tr>\n",
              "  </thead>\n",
              "  <tbody>\n",
              "    <tr>\n",
              "      <th>16361</th>\n",
              "      <td>C2B</td>\n",
              "      <td>Airlines</td>\n",
              "      <td>Online</td>\n",
              "      <td>Annual Silver Plan</td>\n",
              "      <td>No</td>\n",
              "      <td>364</td>\n",
              "      <td>SINGAPORE</td>\n",
              "      <td>-389.0</td>\n",
              "      <td>97.25</td>\n",
              "      <td>27</td>\n",
              "    </tr>\n",
              "  </tbody>\n",
              "</table>\n",
              "</div>\n",
              "      <button class=\"colab-df-convert\" onclick=\"convertToInteractive('df-589215cc-7b3b-4050-8db3-97eebda2b9ee')\"\n",
              "              title=\"Convert this dataframe to an interactive table.\"\n",
              "              style=\"display:none;\">\n",
              "        \n",
              "  <svg xmlns=\"http://www.w3.org/2000/svg\" height=\"24px\"viewBox=\"0 0 24 24\"\n",
              "       width=\"24px\">\n",
              "    <path d=\"M0 0h24v24H0V0z\" fill=\"none\"/>\n",
              "    <path d=\"M18.56 5.44l.94 2.06.94-2.06 2.06-.94-2.06-.94-.94-2.06-.94 2.06-2.06.94zm-11 1L8.5 8.5l.94-2.06 2.06-.94-2.06-.94L8.5 2.5l-.94 2.06-2.06.94zm10 10l.94 2.06.94-2.06 2.06-.94-2.06-.94-.94-2.06-.94 2.06-2.06.94z\"/><path d=\"M17.41 7.96l-1.37-1.37c-.4-.4-.92-.59-1.43-.59-.52 0-1.04.2-1.43.59L10.3 9.45l-7.72 7.72c-.78.78-.78 2.05 0 2.83L4 21.41c.39.39.9.59 1.41.59.51 0 1.02-.2 1.41-.59l7.78-7.78 2.81-2.81c.8-.78.8-2.07 0-2.86zM5.41 20L4 18.59l7.72-7.72 1.47 1.35L5.41 20z\"/>\n",
              "  </svg>\n",
              "      </button>\n",
              "      \n",
              "  <style>\n",
              "    .colab-df-container {\n",
              "      display:flex;\n",
              "      flex-wrap:wrap;\n",
              "      gap: 12px;\n",
              "    }\n",
              "\n",
              "    .colab-df-convert {\n",
              "      background-color: #E8F0FE;\n",
              "      border: none;\n",
              "      border-radius: 50%;\n",
              "      cursor: pointer;\n",
              "      display: none;\n",
              "      fill: #1967D2;\n",
              "      height: 32px;\n",
              "      padding: 0 0 0 0;\n",
              "      width: 32px;\n",
              "    }\n",
              "\n",
              "    .colab-df-convert:hover {\n",
              "      background-color: #E2EBFA;\n",
              "      box-shadow: 0px 1px 2px rgba(60, 64, 67, 0.3), 0px 1px 3px 1px rgba(60, 64, 67, 0.15);\n",
              "      fill: #174EA6;\n",
              "    }\n",
              "\n",
              "    [theme=dark] .colab-df-convert {\n",
              "      background-color: #3B4455;\n",
              "      fill: #D2E3FC;\n",
              "    }\n",
              "\n",
              "    [theme=dark] .colab-df-convert:hover {\n",
              "      background-color: #434B5C;\n",
              "      box-shadow: 0px 1px 3px 1px rgba(0, 0, 0, 0.15);\n",
              "      filter: drop-shadow(0px 1px 2px rgba(0, 0, 0, 0.3));\n",
              "      fill: #FFFFFF;\n",
              "    }\n",
              "  </style>\n",
              "\n",
              "      <script>\n",
              "        const buttonEl =\n",
              "          document.querySelector('#df-589215cc-7b3b-4050-8db3-97eebda2b9ee button.colab-df-convert');\n",
              "        buttonEl.style.display =\n",
              "          google.colab.kernel.accessAllowed ? 'block' : 'none';\n",
              "\n",
              "        async function convertToInteractive(key) {\n",
              "          const element = document.querySelector('#df-589215cc-7b3b-4050-8db3-97eebda2b9ee');\n",
              "          const dataTable =\n",
              "            await google.colab.kernel.invokeFunction('convertToInteractive',\n",
              "                                                     [key], {});\n",
              "          if (!dataTable) return;\n",
              "\n",
              "          const docLinkHtml = 'Like what you see? Visit the ' +\n",
              "            '<a target=\"_blank\" href=https://colab.research.google.com/notebooks/data_table.ipynb>data table notebook</a>'\n",
              "            + ' to learn more about interactive tables.';\n",
              "          element.innerHTML = '';\n",
              "          dataTable['output_type'] = 'display_data';\n",
              "          await google.colab.output.renderOutput(dataTable, element);\n",
              "          const docLink = document.createElement('div');\n",
              "          docLink.innerHTML = docLinkHtml;\n",
              "          element.appendChild(docLink);\n",
              "        }\n",
              "      </script>\n",
              "    </div>\n",
              "  </div>\n",
              "  "
            ]
          },
          "metadata": {},
          "execution_count": 44
        }
      ],
      "source": [
        "df.loc[df['Net Sales'] == -389, :]"
      ]
    },
    {
      "cell_type": "code",
      "execution_count": 45,
      "metadata": {
        "id": "ahn4Q8Evw4ux"
      },
      "outputs": [],
      "source": [
        "df = df.drop(index = 16361)"
      ]
    },
    {
      "cell_type": "code",
      "execution_count": 46,
      "metadata": {
        "colab": {
          "base_uri": "https://localhost:8080/",
          "height": 206
        },
        "id": "5Z_9pd5SJD4O",
        "outputId": "68e1e059-b2ea-47db-99f3-e2d9ad64f9ce"
      },
      "outputs": [
        {
          "output_type": "execute_result",
          "data": {
            "text/plain": [
              "      Agency Agency Type Distribution Channel Product Name Claim  Duration  \\\n",
              "14943    JZI    Airlines               Online   Basic Plan    No        -2   \n",
              "52587    JZI    Airlines               Online   Basic Plan    No        -1   \n",
              "52588    JZI    Airlines               Online   Basic Plan    No        -1   \n",
              "56668    JZI    Airlines               Online   Basic Plan    No        -1   \n",
              "59528    JZI    Airlines               Online   Basic Plan    No        -1   \n",
              "\n",
              "             Destination  Net Sales  Commision (in value)  Age  \n",
              "14943         BANGLADESH       22.0                   7.7  118  \n",
              "52587           MALAYSIA       18.0                   6.3  118  \n",
              "52588  BRUNEI DARUSSALAM       18.0                   6.3  118  \n",
              "56668          INDONESIA       18.0                   6.3  118  \n",
              "59528              CHINA       22.0                   7.7  118  "
            ],
            "text/html": [
              "\n",
              "  <div id=\"df-e1392bae-a102-42a3-970e-65dc8e08c336\">\n",
              "    <div class=\"colab-df-container\">\n",
              "      <div>\n",
              "<style scoped>\n",
              "    .dataframe tbody tr th:only-of-type {\n",
              "        vertical-align: middle;\n",
              "    }\n",
              "\n",
              "    .dataframe tbody tr th {\n",
              "        vertical-align: top;\n",
              "    }\n",
              "\n",
              "    .dataframe thead th {\n",
              "        text-align: right;\n",
              "    }\n",
              "</style>\n",
              "<table border=\"1\" class=\"dataframe\">\n",
              "  <thead>\n",
              "    <tr style=\"text-align: right;\">\n",
              "      <th></th>\n",
              "      <th>Agency</th>\n",
              "      <th>Agency Type</th>\n",
              "      <th>Distribution Channel</th>\n",
              "      <th>Product Name</th>\n",
              "      <th>Claim</th>\n",
              "      <th>Duration</th>\n",
              "      <th>Destination</th>\n",
              "      <th>Net Sales</th>\n",
              "      <th>Commision (in value)</th>\n",
              "      <th>Age</th>\n",
              "    </tr>\n",
              "  </thead>\n",
              "  <tbody>\n",
              "    <tr>\n",
              "      <th>14943</th>\n",
              "      <td>JZI</td>\n",
              "      <td>Airlines</td>\n",
              "      <td>Online</td>\n",
              "      <td>Basic Plan</td>\n",
              "      <td>No</td>\n",
              "      <td>-2</td>\n",
              "      <td>BANGLADESH</td>\n",
              "      <td>22.0</td>\n",
              "      <td>7.7</td>\n",
              "      <td>118</td>\n",
              "    </tr>\n",
              "    <tr>\n",
              "      <th>52587</th>\n",
              "      <td>JZI</td>\n",
              "      <td>Airlines</td>\n",
              "      <td>Online</td>\n",
              "      <td>Basic Plan</td>\n",
              "      <td>No</td>\n",
              "      <td>-1</td>\n",
              "      <td>MALAYSIA</td>\n",
              "      <td>18.0</td>\n",
              "      <td>6.3</td>\n",
              "      <td>118</td>\n",
              "    </tr>\n",
              "    <tr>\n",
              "      <th>52588</th>\n",
              "      <td>JZI</td>\n",
              "      <td>Airlines</td>\n",
              "      <td>Online</td>\n",
              "      <td>Basic Plan</td>\n",
              "      <td>No</td>\n",
              "      <td>-1</td>\n",
              "      <td>BRUNEI DARUSSALAM</td>\n",
              "      <td>18.0</td>\n",
              "      <td>6.3</td>\n",
              "      <td>118</td>\n",
              "    </tr>\n",
              "    <tr>\n",
              "      <th>56668</th>\n",
              "      <td>JZI</td>\n",
              "      <td>Airlines</td>\n",
              "      <td>Online</td>\n",
              "      <td>Basic Plan</td>\n",
              "      <td>No</td>\n",
              "      <td>-1</td>\n",
              "      <td>INDONESIA</td>\n",
              "      <td>18.0</td>\n",
              "      <td>6.3</td>\n",
              "      <td>118</td>\n",
              "    </tr>\n",
              "    <tr>\n",
              "      <th>59528</th>\n",
              "      <td>JZI</td>\n",
              "      <td>Airlines</td>\n",
              "      <td>Online</td>\n",
              "      <td>Basic Plan</td>\n",
              "      <td>No</td>\n",
              "      <td>-1</td>\n",
              "      <td>CHINA</td>\n",
              "      <td>22.0</td>\n",
              "      <td>7.7</td>\n",
              "      <td>118</td>\n",
              "    </tr>\n",
              "  </tbody>\n",
              "</table>\n",
              "</div>\n",
              "      <button class=\"colab-df-convert\" onclick=\"convertToInteractive('df-e1392bae-a102-42a3-970e-65dc8e08c336')\"\n",
              "              title=\"Convert this dataframe to an interactive table.\"\n",
              "              style=\"display:none;\">\n",
              "        \n",
              "  <svg xmlns=\"http://www.w3.org/2000/svg\" height=\"24px\"viewBox=\"0 0 24 24\"\n",
              "       width=\"24px\">\n",
              "    <path d=\"M0 0h24v24H0V0z\" fill=\"none\"/>\n",
              "    <path d=\"M18.56 5.44l.94 2.06.94-2.06 2.06-.94-2.06-.94-.94-2.06-.94 2.06-2.06.94zm-11 1L8.5 8.5l.94-2.06 2.06-.94-2.06-.94L8.5 2.5l-.94 2.06-2.06.94zm10 10l.94 2.06.94-2.06 2.06-.94-2.06-.94-.94-2.06-.94 2.06-2.06.94z\"/><path d=\"M17.41 7.96l-1.37-1.37c-.4-.4-.92-.59-1.43-.59-.52 0-1.04.2-1.43.59L10.3 9.45l-7.72 7.72c-.78.78-.78 2.05 0 2.83L4 21.41c.39.39.9.59 1.41.59.51 0 1.02-.2 1.41-.59l7.78-7.78 2.81-2.81c.8-.78.8-2.07 0-2.86zM5.41 20L4 18.59l7.72-7.72 1.47 1.35L5.41 20z\"/>\n",
              "  </svg>\n",
              "      </button>\n",
              "      \n",
              "  <style>\n",
              "    .colab-df-container {\n",
              "      display:flex;\n",
              "      flex-wrap:wrap;\n",
              "      gap: 12px;\n",
              "    }\n",
              "\n",
              "    .colab-df-convert {\n",
              "      background-color: #E8F0FE;\n",
              "      border: none;\n",
              "      border-radius: 50%;\n",
              "      cursor: pointer;\n",
              "      display: none;\n",
              "      fill: #1967D2;\n",
              "      height: 32px;\n",
              "      padding: 0 0 0 0;\n",
              "      width: 32px;\n",
              "    }\n",
              "\n",
              "    .colab-df-convert:hover {\n",
              "      background-color: #E2EBFA;\n",
              "      box-shadow: 0px 1px 2px rgba(60, 64, 67, 0.3), 0px 1px 3px 1px rgba(60, 64, 67, 0.15);\n",
              "      fill: #174EA6;\n",
              "    }\n",
              "\n",
              "    [theme=dark] .colab-df-convert {\n",
              "      background-color: #3B4455;\n",
              "      fill: #D2E3FC;\n",
              "    }\n",
              "\n",
              "    [theme=dark] .colab-df-convert:hover {\n",
              "      background-color: #434B5C;\n",
              "      box-shadow: 0px 1px 3px 1px rgba(0, 0, 0, 0.15);\n",
              "      filter: drop-shadow(0px 1px 2px rgba(0, 0, 0, 0.3));\n",
              "      fill: #FFFFFF;\n",
              "    }\n",
              "  </style>\n",
              "\n",
              "      <script>\n",
              "        const buttonEl =\n",
              "          document.querySelector('#df-e1392bae-a102-42a3-970e-65dc8e08c336 button.colab-df-convert');\n",
              "        buttonEl.style.display =\n",
              "          google.colab.kernel.accessAllowed ? 'block' : 'none';\n",
              "\n",
              "        async function convertToInteractive(key) {\n",
              "          const element = document.querySelector('#df-e1392bae-a102-42a3-970e-65dc8e08c336');\n",
              "          const dataTable =\n",
              "            await google.colab.kernel.invokeFunction('convertToInteractive',\n",
              "                                                     [key], {});\n",
              "          if (!dataTable) return;\n",
              "\n",
              "          const docLinkHtml = 'Like what you see? Visit the ' +\n",
              "            '<a target=\"_blank\" href=https://colab.research.google.com/notebooks/data_table.ipynb>data table notebook</a>'\n",
              "            + ' to learn more about interactive tables.';\n",
              "          element.innerHTML = '';\n",
              "          dataTable['output_type'] = 'display_data';\n",
              "          await google.colab.output.renderOutput(dataTable, element);\n",
              "          const docLink = document.createElement('div');\n",
              "          docLink.innerHTML = docLinkHtml;\n",
              "          element.appendChild(docLink);\n",
              "        }\n",
              "      </script>\n",
              "    </div>\n",
              "  </div>\n",
              "  "
            ]
          },
          "metadata": {},
          "execution_count": 46
        }
      ],
      "source": [
        "df.loc[df['Duration'] <= -1, :]"
      ]
    },
    {
      "cell_type": "code",
      "execution_count": 47,
      "metadata": {
        "id": "lJqfQMxPJN2L"
      },
      "outputs": [],
      "source": [
        "df = df.drop(index = 14943)\n",
        "df = df.drop(index = 52587)\n",
        "df = df.drop(index = 52588)\n",
        "df = df.drop(index = 56668)\n",
        "df = df.drop(index = 59528)"
      ]
    },
    {
      "cell_type": "code",
      "execution_count": 48,
      "metadata": {
        "colab": {
          "base_uri": "https://localhost:8080/",
          "height": 269
        },
        "id": "DinSnOznJTPc",
        "outputId": "97dbc01e-9890-45da-b2da-7c580b724929"
      },
      "outputs": [
        {
          "output_type": "execute_result",
          "data": {
            "text/plain": [
              "      Agency    Agency Type Distribution Channel           Product Name Claim  \\\n",
              "17021    JZI       Airlines               Online             Value Plan    No   \n",
              "41993    TST  Travel Agency              Offline  Travel Cruise Protect    No   \n",
              "52109    TST  Travel Agency              Offline  Travel Cruise Protect    No   \n",
              "57555    C2B       Airlines               Online            Silver Plan    No   \n",
              "57748    C2B       Airlines               Online            Silver Plan    No   \n",
              "60234    C2B       Airlines               Online            Bronze Plan    No   \n",
              "63211    C2B       Airlines               Online            Bronze Plan    No   \n",
              "\n",
              "       Duration Destination  Net Sales  Commision (in value)  Age  \n",
              "17021         2    MALAYSIA       26.0                  9.10    1  \n",
              "41993        94    THAILAND       30.0                 10.50    0  \n",
              "52109        94    THAILAND      -30.0                 10.50    0  \n",
              "57555        10   SINGAPORE       46.8                 11.70    1  \n",
              "57748        33   SINGAPORE       74.4                 18.60    1  \n",
              "60234        12   SINGAPORE       16.0                  4.00    1  \n",
              "63211        56   SINGAPORE       86.5                 21.63    1  "
            ],
            "text/html": [
              "\n",
              "  <div id=\"df-21365175-79c5-4afb-982a-176328977858\">\n",
              "    <div class=\"colab-df-container\">\n",
              "      <div>\n",
              "<style scoped>\n",
              "    .dataframe tbody tr th:only-of-type {\n",
              "        vertical-align: middle;\n",
              "    }\n",
              "\n",
              "    .dataframe tbody tr th {\n",
              "        vertical-align: top;\n",
              "    }\n",
              "\n",
              "    .dataframe thead th {\n",
              "        text-align: right;\n",
              "    }\n",
              "</style>\n",
              "<table border=\"1\" class=\"dataframe\">\n",
              "  <thead>\n",
              "    <tr style=\"text-align: right;\">\n",
              "      <th></th>\n",
              "      <th>Agency</th>\n",
              "      <th>Agency Type</th>\n",
              "      <th>Distribution Channel</th>\n",
              "      <th>Product Name</th>\n",
              "      <th>Claim</th>\n",
              "      <th>Duration</th>\n",
              "      <th>Destination</th>\n",
              "      <th>Net Sales</th>\n",
              "      <th>Commision (in value)</th>\n",
              "      <th>Age</th>\n",
              "    </tr>\n",
              "  </thead>\n",
              "  <tbody>\n",
              "    <tr>\n",
              "      <th>17021</th>\n",
              "      <td>JZI</td>\n",
              "      <td>Airlines</td>\n",
              "      <td>Online</td>\n",
              "      <td>Value Plan</td>\n",
              "      <td>No</td>\n",
              "      <td>2</td>\n",
              "      <td>MALAYSIA</td>\n",
              "      <td>26.0</td>\n",
              "      <td>9.10</td>\n",
              "      <td>1</td>\n",
              "    </tr>\n",
              "    <tr>\n",
              "      <th>41993</th>\n",
              "      <td>TST</td>\n",
              "      <td>Travel Agency</td>\n",
              "      <td>Offline</td>\n",
              "      <td>Travel Cruise Protect</td>\n",
              "      <td>No</td>\n",
              "      <td>94</td>\n",
              "      <td>THAILAND</td>\n",
              "      <td>30.0</td>\n",
              "      <td>10.50</td>\n",
              "      <td>0</td>\n",
              "    </tr>\n",
              "    <tr>\n",
              "      <th>52109</th>\n",
              "      <td>TST</td>\n",
              "      <td>Travel Agency</td>\n",
              "      <td>Offline</td>\n",
              "      <td>Travel Cruise Protect</td>\n",
              "      <td>No</td>\n",
              "      <td>94</td>\n",
              "      <td>THAILAND</td>\n",
              "      <td>-30.0</td>\n",
              "      <td>10.50</td>\n",
              "      <td>0</td>\n",
              "    </tr>\n",
              "    <tr>\n",
              "      <th>57555</th>\n",
              "      <td>C2B</td>\n",
              "      <td>Airlines</td>\n",
              "      <td>Online</td>\n",
              "      <td>Silver Plan</td>\n",
              "      <td>No</td>\n",
              "      <td>10</td>\n",
              "      <td>SINGAPORE</td>\n",
              "      <td>46.8</td>\n",
              "      <td>11.70</td>\n",
              "      <td>1</td>\n",
              "    </tr>\n",
              "    <tr>\n",
              "      <th>57748</th>\n",
              "      <td>C2B</td>\n",
              "      <td>Airlines</td>\n",
              "      <td>Online</td>\n",
              "      <td>Silver Plan</td>\n",
              "      <td>No</td>\n",
              "      <td>33</td>\n",
              "      <td>SINGAPORE</td>\n",
              "      <td>74.4</td>\n",
              "      <td>18.60</td>\n",
              "      <td>1</td>\n",
              "    </tr>\n",
              "    <tr>\n",
              "      <th>60234</th>\n",
              "      <td>C2B</td>\n",
              "      <td>Airlines</td>\n",
              "      <td>Online</td>\n",
              "      <td>Bronze Plan</td>\n",
              "      <td>No</td>\n",
              "      <td>12</td>\n",
              "      <td>SINGAPORE</td>\n",
              "      <td>16.0</td>\n",
              "      <td>4.00</td>\n",
              "      <td>1</td>\n",
              "    </tr>\n",
              "    <tr>\n",
              "      <th>63211</th>\n",
              "      <td>C2B</td>\n",
              "      <td>Airlines</td>\n",
              "      <td>Online</td>\n",
              "      <td>Bronze Plan</td>\n",
              "      <td>No</td>\n",
              "      <td>56</td>\n",
              "      <td>SINGAPORE</td>\n",
              "      <td>86.5</td>\n",
              "      <td>21.63</td>\n",
              "      <td>1</td>\n",
              "    </tr>\n",
              "  </tbody>\n",
              "</table>\n",
              "</div>\n",
              "      <button class=\"colab-df-convert\" onclick=\"convertToInteractive('df-21365175-79c5-4afb-982a-176328977858')\"\n",
              "              title=\"Convert this dataframe to an interactive table.\"\n",
              "              style=\"display:none;\">\n",
              "        \n",
              "  <svg xmlns=\"http://www.w3.org/2000/svg\" height=\"24px\"viewBox=\"0 0 24 24\"\n",
              "       width=\"24px\">\n",
              "    <path d=\"M0 0h24v24H0V0z\" fill=\"none\"/>\n",
              "    <path d=\"M18.56 5.44l.94 2.06.94-2.06 2.06-.94-2.06-.94-.94-2.06-.94 2.06-2.06.94zm-11 1L8.5 8.5l.94-2.06 2.06-.94-2.06-.94L8.5 2.5l-.94 2.06-2.06.94zm10 10l.94 2.06.94-2.06 2.06-.94-2.06-.94-.94-2.06-.94 2.06-2.06.94z\"/><path d=\"M17.41 7.96l-1.37-1.37c-.4-.4-.92-.59-1.43-.59-.52 0-1.04.2-1.43.59L10.3 9.45l-7.72 7.72c-.78.78-.78 2.05 0 2.83L4 21.41c.39.39.9.59 1.41.59.51 0 1.02-.2 1.41-.59l7.78-7.78 2.81-2.81c.8-.78.8-2.07 0-2.86zM5.41 20L4 18.59l7.72-7.72 1.47 1.35L5.41 20z\"/>\n",
              "  </svg>\n",
              "      </button>\n",
              "      \n",
              "  <style>\n",
              "    .colab-df-container {\n",
              "      display:flex;\n",
              "      flex-wrap:wrap;\n",
              "      gap: 12px;\n",
              "    }\n",
              "\n",
              "    .colab-df-convert {\n",
              "      background-color: #E8F0FE;\n",
              "      border: none;\n",
              "      border-radius: 50%;\n",
              "      cursor: pointer;\n",
              "      display: none;\n",
              "      fill: #1967D2;\n",
              "      height: 32px;\n",
              "      padding: 0 0 0 0;\n",
              "      width: 32px;\n",
              "    }\n",
              "\n",
              "    .colab-df-convert:hover {\n",
              "      background-color: #E2EBFA;\n",
              "      box-shadow: 0px 1px 2px rgba(60, 64, 67, 0.3), 0px 1px 3px 1px rgba(60, 64, 67, 0.15);\n",
              "      fill: #174EA6;\n",
              "    }\n",
              "\n",
              "    [theme=dark] .colab-df-convert {\n",
              "      background-color: #3B4455;\n",
              "      fill: #D2E3FC;\n",
              "    }\n",
              "\n",
              "    [theme=dark] .colab-df-convert:hover {\n",
              "      background-color: #434B5C;\n",
              "      box-shadow: 0px 1px 3px 1px rgba(0, 0, 0, 0.15);\n",
              "      filter: drop-shadow(0px 1px 2px rgba(0, 0, 0, 0.3));\n",
              "      fill: #FFFFFF;\n",
              "    }\n",
              "  </style>\n",
              "\n",
              "      <script>\n",
              "        const buttonEl =\n",
              "          document.querySelector('#df-21365175-79c5-4afb-982a-176328977858 button.colab-df-convert');\n",
              "        buttonEl.style.display =\n",
              "          google.colab.kernel.accessAllowed ? 'block' : 'none';\n",
              "\n",
              "        async function convertToInteractive(key) {\n",
              "          const element = document.querySelector('#df-21365175-79c5-4afb-982a-176328977858');\n",
              "          const dataTable =\n",
              "            await google.colab.kernel.invokeFunction('convertToInteractive',\n",
              "                                                     [key], {});\n",
              "          if (!dataTable) return;\n",
              "\n",
              "          const docLinkHtml = 'Like what you see? Visit the ' +\n",
              "            '<a target=\"_blank\" href=https://colab.research.google.com/notebooks/data_table.ipynb>data table notebook</a>'\n",
              "            + ' to learn more about interactive tables.';\n",
              "          element.innerHTML = '';\n",
              "          dataTable['output_type'] = 'display_data';\n",
              "          await google.colab.output.renderOutput(dataTable, element);\n",
              "          const docLink = document.createElement('div');\n",
              "          docLink.innerHTML = docLinkHtml;\n",
              "          element.appendChild(docLink);\n",
              "        }\n",
              "      </script>\n",
              "    </div>\n",
              "  </div>\n",
              "  "
            ]
          },
          "metadata": {},
          "execution_count": 48
        }
      ],
      "source": [
        "df.loc[df['Age'] < 2, :]"
      ]
    },
    {
      "cell_type": "code",
      "execution_count": 49,
      "metadata": {
        "id": "Bq0p-eRAJmRE"
      },
      "outputs": [],
      "source": [
        "df = df.drop(index = 41993)\n",
        "df = df.drop(index = 52109)"
      ]
    },
    {
      "cell_type": "code",
      "execution_count": 50,
      "metadata": {
        "colab": {
          "base_uri": "https://localhost:8080/"
        },
        "id": "Vgo4tZa-G1Ur",
        "outputId": "e486d9cb-0e4f-4c94-ae5f-670da77ae88e"
      },
      "outputs": [
        {
          "output_type": "execute_result",
          "data": {
            "text/plain": [
              "Agency                    16\n",
              "Product Name              26\n",
              "Duration                 453\n",
              "Destination              149\n",
              "Net Sales               1134\n",
              "Commision (in value)    1030\n",
              "Age                       88\n",
              "dtype: int64"
            ]
          },
          "metadata": {},
          "execution_count": 50
        }
      ],
      "source": [
        "n_unique = df.nunique()\n",
        "n_unique[n_unique>2]"
      ]
    },
    {
      "cell_type": "markdown",
      "metadata": {
        "id": "KBup3Is2wq0n"
      },
      "source": [
        "* Rechecked 'describe' to see if the numbers made more sense"
      ]
    },
    {
      "cell_type": "code",
      "execution_count": 51,
      "metadata": {
        "colab": {
          "base_uri": "https://localhost:8080/",
          "height": 300
        },
        "id": "CaYUiRUdKOFo",
        "outputId": "31162ea5-b025-47c4-ab12-f71f0dedc8bb"
      },
      "outputs": [
        {
          "output_type": "execute_result",
          "data": {
            "text/plain": [
              "           Duration     Net Sales  Commision (in value)           Age\n",
              "count  49939.000000  49939.000000          49939.000000  49939.000000\n",
              "mean      54.064719     43.518096             11.052872     39.922646\n",
              "std      108.676303     50.535080             21.162579     12.982562\n",
              "min        0.000000   -357.500000              0.000000      1.000000\n",
              "25%       12.000000     19.800000              0.000000     34.000000\n",
              "50%       27.000000     29.700000              0.000000     36.000000\n",
              "75%       60.000000     53.950000             12.250000     45.000000\n",
              "max     4881.000000    810.000000            283.500000    118.000000"
            ],
            "text/html": [
              "\n",
              "  <div id=\"df-bb969ba9-76e7-4852-8cbe-6742786337cf\">\n",
              "    <div class=\"colab-df-container\">\n",
              "      <div>\n",
              "<style scoped>\n",
              "    .dataframe tbody tr th:only-of-type {\n",
              "        vertical-align: middle;\n",
              "    }\n",
              "\n",
              "    .dataframe tbody tr th {\n",
              "        vertical-align: top;\n",
              "    }\n",
              "\n",
              "    .dataframe thead th {\n",
              "        text-align: right;\n",
              "    }\n",
              "</style>\n",
              "<table border=\"1\" class=\"dataframe\">\n",
              "  <thead>\n",
              "    <tr style=\"text-align: right;\">\n",
              "      <th></th>\n",
              "      <th>Duration</th>\n",
              "      <th>Net Sales</th>\n",
              "      <th>Commision (in value)</th>\n",
              "      <th>Age</th>\n",
              "    </tr>\n",
              "  </thead>\n",
              "  <tbody>\n",
              "    <tr>\n",
              "      <th>count</th>\n",
              "      <td>49939.000000</td>\n",
              "      <td>49939.000000</td>\n",
              "      <td>49939.000000</td>\n",
              "      <td>49939.000000</td>\n",
              "    </tr>\n",
              "    <tr>\n",
              "      <th>mean</th>\n",
              "      <td>54.064719</td>\n",
              "      <td>43.518096</td>\n",
              "      <td>11.052872</td>\n",
              "      <td>39.922646</td>\n",
              "    </tr>\n",
              "    <tr>\n",
              "      <th>std</th>\n",
              "      <td>108.676303</td>\n",
              "      <td>50.535080</td>\n",
              "      <td>21.162579</td>\n",
              "      <td>12.982562</td>\n",
              "    </tr>\n",
              "    <tr>\n",
              "      <th>min</th>\n",
              "      <td>0.000000</td>\n",
              "      <td>-357.500000</td>\n",
              "      <td>0.000000</td>\n",
              "      <td>1.000000</td>\n",
              "    </tr>\n",
              "    <tr>\n",
              "      <th>25%</th>\n",
              "      <td>12.000000</td>\n",
              "      <td>19.800000</td>\n",
              "      <td>0.000000</td>\n",
              "      <td>34.000000</td>\n",
              "    </tr>\n",
              "    <tr>\n",
              "      <th>50%</th>\n",
              "      <td>27.000000</td>\n",
              "      <td>29.700000</td>\n",
              "      <td>0.000000</td>\n",
              "      <td>36.000000</td>\n",
              "    </tr>\n",
              "    <tr>\n",
              "      <th>75%</th>\n",
              "      <td>60.000000</td>\n",
              "      <td>53.950000</td>\n",
              "      <td>12.250000</td>\n",
              "      <td>45.000000</td>\n",
              "    </tr>\n",
              "    <tr>\n",
              "      <th>max</th>\n",
              "      <td>4881.000000</td>\n",
              "      <td>810.000000</td>\n",
              "      <td>283.500000</td>\n",
              "      <td>118.000000</td>\n",
              "    </tr>\n",
              "  </tbody>\n",
              "</table>\n",
              "</div>\n",
              "      <button class=\"colab-df-convert\" onclick=\"convertToInteractive('df-bb969ba9-76e7-4852-8cbe-6742786337cf')\"\n",
              "              title=\"Convert this dataframe to an interactive table.\"\n",
              "              style=\"display:none;\">\n",
              "        \n",
              "  <svg xmlns=\"http://www.w3.org/2000/svg\" height=\"24px\"viewBox=\"0 0 24 24\"\n",
              "       width=\"24px\">\n",
              "    <path d=\"M0 0h24v24H0V0z\" fill=\"none\"/>\n",
              "    <path d=\"M18.56 5.44l.94 2.06.94-2.06 2.06-.94-2.06-.94-.94-2.06-.94 2.06-2.06.94zm-11 1L8.5 8.5l.94-2.06 2.06-.94-2.06-.94L8.5 2.5l-.94 2.06-2.06.94zm10 10l.94 2.06.94-2.06 2.06-.94-2.06-.94-.94-2.06-.94 2.06-2.06.94z\"/><path d=\"M17.41 7.96l-1.37-1.37c-.4-.4-.92-.59-1.43-.59-.52 0-1.04.2-1.43.59L10.3 9.45l-7.72 7.72c-.78.78-.78 2.05 0 2.83L4 21.41c.39.39.9.59 1.41.59.51 0 1.02-.2 1.41-.59l7.78-7.78 2.81-2.81c.8-.78.8-2.07 0-2.86zM5.41 20L4 18.59l7.72-7.72 1.47 1.35L5.41 20z\"/>\n",
              "  </svg>\n",
              "      </button>\n",
              "      \n",
              "  <style>\n",
              "    .colab-df-container {\n",
              "      display:flex;\n",
              "      flex-wrap:wrap;\n",
              "      gap: 12px;\n",
              "    }\n",
              "\n",
              "    .colab-df-convert {\n",
              "      background-color: #E8F0FE;\n",
              "      border: none;\n",
              "      border-radius: 50%;\n",
              "      cursor: pointer;\n",
              "      display: none;\n",
              "      fill: #1967D2;\n",
              "      height: 32px;\n",
              "      padding: 0 0 0 0;\n",
              "      width: 32px;\n",
              "    }\n",
              "\n",
              "    .colab-df-convert:hover {\n",
              "      background-color: #E2EBFA;\n",
              "      box-shadow: 0px 1px 2px rgba(60, 64, 67, 0.3), 0px 1px 3px 1px rgba(60, 64, 67, 0.15);\n",
              "      fill: #174EA6;\n",
              "    }\n",
              "\n",
              "    [theme=dark] .colab-df-convert {\n",
              "      background-color: #3B4455;\n",
              "      fill: #D2E3FC;\n",
              "    }\n",
              "\n",
              "    [theme=dark] .colab-df-convert:hover {\n",
              "      background-color: #434B5C;\n",
              "      box-shadow: 0px 1px 3px 1px rgba(0, 0, 0, 0.15);\n",
              "      filter: drop-shadow(0px 1px 2px rgba(0, 0, 0, 0.3));\n",
              "      fill: #FFFFFF;\n",
              "    }\n",
              "  </style>\n",
              "\n",
              "      <script>\n",
              "        const buttonEl =\n",
              "          document.querySelector('#df-bb969ba9-76e7-4852-8cbe-6742786337cf button.colab-df-convert');\n",
              "        buttonEl.style.display =\n",
              "          google.colab.kernel.accessAllowed ? 'block' : 'none';\n",
              "\n",
              "        async function convertToInteractive(key) {\n",
              "          const element = document.querySelector('#df-bb969ba9-76e7-4852-8cbe-6742786337cf');\n",
              "          const dataTable =\n",
              "            await google.colab.kernel.invokeFunction('convertToInteractive',\n",
              "                                                     [key], {});\n",
              "          if (!dataTable) return;\n",
              "\n",
              "          const docLinkHtml = 'Like what you see? Visit the ' +\n",
              "            '<a target=\"_blank\" href=https://colab.research.google.com/notebooks/data_table.ipynb>data table notebook</a>'\n",
              "            + ' to learn more about interactive tables.';\n",
              "          element.innerHTML = '';\n",
              "          dataTable['output_type'] = 'display_data';\n",
              "          await google.colab.output.renderOutput(dataTable, element);\n",
              "          const docLink = document.createElement('div');\n",
              "          docLink.innerHTML = docLinkHtml;\n",
              "          element.appendChild(docLink);\n",
              "        }\n",
              "      </script>\n",
              "    </div>\n",
              "  </div>\n",
              "  "
            ]
          },
          "metadata": {},
          "execution_count": 51
        }
      ],
      "source": [
        "df.describe()"
      ]
    },
    {
      "cell_type": "markdown",
      "metadata": {
        "id": "_xK0qavG9HEi"
      },
      "source": [
        "##Exploratory Data Analysis"
      ]
    },
    {
      "cell_type": "code",
      "execution_count": 52,
      "metadata": {
        "colab": {
          "base_uri": "https://localhost:8080/",
          "height": 365
        },
        "id": "CNu5q63-9LIT",
        "outputId": "d4d223b4-b8f9-415a-f532-dee25b4ffb5c"
      },
      "outputs": [
        {
          "output_type": "display_data",
          "data": {
            "text/plain": [
              "<Figure size 432x288 with 2 Axes>"
            ],
            "image/png": "[encoded data removed]"
          },
          "metadata": {
            "needs_background": "light"
          }
        }
      ],
      "source": [
        "corr = df.corr()\n",
        "sns.heatmap(corr, cmap = 'Greens', annot = True);"
      ]
    },
    {
      "cell_type": "code",
      "execution_count": 53,
      "metadata": {
        "colab": {
          "base_uri": "https://localhost:8080/",
          "height": 729
        },
        "id": "1aSZqZWY-HMr",
        "outputId": "926ee204-0884-44f3-a3f7-fae65ceb5557"
      },
      "outputs": [
        {
          "output_type": "display_data",
          "data": {
            "text/plain": [
              "<Figure size 864x720 with 4 Axes>"
            ],
            "image/png": "[encoded data removed]"
          },
          "metadata": {
            "needs_background": "light"
          }
        }
      ],
      "source": [
        "df.hist(figsize=(12,10), bins=30)\n",
        "plt.tight_layout()\n",
        "plt.show;"
      ]
    },
    {
      "cell_type": "markdown",
      "metadata": {
        "id": "5kepac7T1C40"
      },
      "source": [
        "## Modeling: Pre-Processing"
      ]
    },
    {
      "cell_type": "markdown",
      "metadata": {
        "id": "5rPbNPJq1oz9"
      },
      "source": [
        "* No ordinal values noticeable, so no need to encode prior\n",
        "* Train test split"
      ]
    },
    {
      "cell_type": "code",
      "execution_count": 54,
      "metadata": {
        "id": "ZTIzGLWY1J0C"
      },
      "outputs": [],
      "source": [
        "y = df['Claim']\n",
        "X = df.drop(columns = 'Claim')\n",
        "\n",
        "X_train, X_test, y_train, y_test = train_test_split(X, y, random_state = 3)"
      ]
    },
    {
      "cell_type": "markdown",
      "metadata": {
        "id": "b02wFvYQfMGP"
      },
      "source": [
        "* Make column selectors for objects and numbers "
      ]
    },
    {
      "cell_type": "code",
      "execution_count": 55,
      "metadata": {
        "id": "2Ob36wgEfOsK"
      },
      "outputs": [],
      "source": [
        "cat_feat = make_column_selector(dtype_include = 'object')\n",
        "num_feat = make_column_selector(dtype_include = 'number')"
      ]
    },
    {
      "cell_type": "markdown",
      "metadata": {
        "id": "vE3g3lWgfbOF"
      },
      "source": [
        "* Instantiate StandardScaler and OneHotEncoder\n",
        "* Instantiate SimpleImputer "
      ]
    },
    {
      "cell_type": "code",
      "execution_count": 56,
      "metadata": {
        "id": "oXiWZTAefZFf"
      },
      "outputs": [],
      "source": [
        "scaler = StandardScaler()\n",
        "ohe = OneHotEncoder(sparse = False, handle_unknown = 'ignore')\n",
        "mean_imputer = SimpleImputer(strategy = 'mean')\n",
        "freq_imputer = SimpleImputer(strategy = 'most_frequent')"
      ]
    },
    {
      "cell_type": "markdown",
      "metadata": {
        "id": "zDjLgSFngG0V"
      },
      "source": [
        "* Make pipelines for the objects and numbers to use StandardScaler and OneHotEncoder\n",
        "\n"
      ]
    },
    {
      "cell_type": "code",
      "execution_count": 57,
      "metadata": {
        "id": "zFWh4yhCgG92"
      },
      "outputs": [],
      "source": [
        "cat_pipe = make_pipeline(freq_imputer, ohe)\n",
        "num_pipe = make_pipeline(mean_imputer, scaler)"
      ]
    },
    {
      "cell_type": "markdown",
      "metadata": {
        "id": "5ieXTRmAgWq2"
      },
      "source": [
        "* Make tuples so objects and numbers don't mix with anything else"
      ]
    },
    {
      "cell_type": "code",
      "execution_count": 58,
      "metadata": {
        "id": "-AHGXTAngZEy"
      },
      "outputs": [],
      "source": [
        "cat_tuple = (cat_pipe, cat_feat)\n",
        "num_tuple = (num_pipe, num_feat)"
      ]
    },
    {
      "cell_type": "markdown",
      "metadata": {
        "id": "0pIDcxVWgh8F"
      },
      "source": [
        "* Make columns transformer"
      ]
    },
    {
      "cell_type": "code",
      "execution_count": 59,
      "metadata": {
        "id": "jyWfUALYgiFi"
      },
      "outputs": [],
      "source": [
        "preprocessor = make_column_transformer(num_tuple, cat_tuple, remainder = 'passthrough')"
      ]
    },
    {
      "cell_type": "code",
      "source": [
        "preprocessor"
      ],
      "metadata": {
        "colab": {
          "base_uri": "https://localhost:8080/",
          "height": 152
        },
        "id": "dWsz6-vSMEW7",
        "outputId": "177582cd-c40b-4e18-cd6f-e0a1f232a968"
      },
      "execution_count": 60,
      "outputs": [
        {
          "output_type": "execute_result",
          "data": {
            "text/plain": [
              "ColumnTransformer(remainder='passthrough',\n",
              "                  transformers=[('pipeline-1',\n",
              "                                 Pipeline(steps=[('simpleimputer',\n",
              "                                                  SimpleImputer()),\n",
              "                                                 ('standardscaler',\n",
              "                                                  StandardScaler())]),\n",
              "                                 <sklearn.compose._column_transformer.make_column_selector object at 0x7f57a761c6d0>),\n",
              "                                ('pipeline-2',\n",
              "                                 Pipeline(steps=[('simpleimputer',\n",
              "                                                  SimpleImputer(strategy='most_frequent')),\n",
              "                                                 ('onehotencoder',\n",
              "                                                  OneHotEncoder(handle_unknown='ignore',\n",
              "                                                                sparse=False))]),\n",
              "                                 <sklearn.compose._column_transformer.make_column_selector object at 0x7f57a761c550>)])"
            ],
            "text/html": [
              "<style>#sk-78b15ff0-c5ca-4745-b37f-b6f19ee198b7 {color: black;background-color: white;}#sk-78b15ff0-c5ca-4745-b37f-b6f19ee198b7 pre{padding: 0;}#sk-78b15ff0-c5ca-4745-b37f-b6f19ee198b7 div.sk-toggleable {background-color: white;}#sk-78b15ff0-c5ca-4745-b37f-b6f19ee198b7 label.sk-toggleable__label {cursor: pointer;display: block;width: 100%;margin-bottom: 0;padding: 0.3em;box-sizing: border-box;text-align: center;}#sk-78b15ff0-c5ca-4745-b37f-b6f19ee198b7 label.sk-toggleable__label-arrow:before {content: \"▸\";float: left;margin-right: 0.25em;color: #696969;}#sk-78b15ff0-c5ca-4745-b37f-b6f19ee198b7 label.sk-toggleable__label-arrow:hover:before {color: black;}#sk-78b15ff0-c5ca-4745-b37f-b6f19ee198b7 div.sk-estimator:hover label.sk-toggleable__label-arrow:before {color: black;}#sk-78b15ff0-c5ca-4745-b37f-b6f19ee198b7 div.sk-toggleable__content {max-height: 0;max-width: 0;overflow: hidden;text-align: left;background-color: #f0f8ff;}#sk-78b15ff0-c5ca-4745-b37f-b6f19ee198b7 div.sk-toggleable__content pre {margin: 0.2em;color: black;border-radius: 0.25em;background-color: #f0f8ff;}#sk-78b15ff0-c5ca-4745-b37f-b6f19ee198b7 input.sk-toggleable__control:checked~div.sk-toggleable__content {max-height: 200px;max-width: 100%;overflow: auto;}#sk-78b15ff0-c5ca-4745-b37f-b6f19ee198b7 input.sk-toggleable__control:checked~label.sk-toggleable__label-arrow:before {content: \"▾\";}#sk-78b15ff0-c5ca-4745-b37f-b6f19ee198b7 div.sk-estimator input.sk-toggleable__control:checked~label.sk-toggleable__label {background-color: #d4ebff;}#sk-78b15ff0-c5ca-4745-b37f-b6f19ee198b7 div.sk-label input.sk-toggleable__control:checked~label.sk-toggleable__label {background-color: #d4ebff;}#sk-78b15ff0-c5ca-4745-b37f-b6f19ee198b7 input.sk-hidden--visually {border: 0;clip: rect(1px 1px 1px 1px);clip: rect(1px, 1px, 1px, 1px);height: 1px;margin: -1px;overflow: hidden;padding: 0;position: absolute;width: 1px;}#sk-78b15ff0-c5ca-4745-b37f-b6f19ee198b7 div.sk-estimator {font-family: monospace;background-color: #f0f8ff;border: 1px dotted black;border-radius: 0.25em;box-sizing: border-box;margin-bottom: 0.5em;}#sk-78b15ff0-c5ca-4745-b37f-b6f19ee198b7 div.sk-estimator:hover {background-color: #d4ebff;}#sk-78b15ff0-c5ca-4745-b37f-b6f19ee198b7 div.sk-parallel-item::after {content: \"\";width: 100%;border-bottom: 1px solid gray;flex-grow: 1;}#sk-78b15ff0-c5ca-4745-b37f-b6f19ee198b7 div.sk-label:hover label.sk-toggleable__label {background-color: #d4ebff;}#sk-78b15ff0-c5ca-4745-b37f-b6f19ee198b7 div.sk-serial::before {content: \"\";position: absolute;border-left: 1px solid gray;box-sizing: border-box;top: 2em;bottom: 0;left: 50%;}#sk-78b15ff0-c5ca-4745-b37f-b6f19ee198b7 div.sk-serial {display: flex;flex-direction: column;align-items: center;background-color: white;padding-right: 0.2em;padding-left: 0.2em;}#sk-78b15ff0-c5ca-4745-b37f-b6f19ee198b7 div.sk-item {z-index: 1;}#sk-78b15ff0-c5ca-4745-b37f-b6f19ee198b7 div.sk-parallel {display: flex;align-items: stretch;justify-content: center;background-color: white;}#sk-78b15ff0-c5ca-4745-b37f-b6f19ee198b7 div.sk-parallel::before {content: \"\";position: absolute;border-left: 1px solid gray;box-sizing: border-box;top: 2em;bottom: 0;left: 50%;}#sk-78b15ff0-c5ca-4745-b37f-b6f19ee198b7 div.sk-parallel-item {display: flex;flex-direction: column;position: relative;background-color: white;}#sk-78b15ff0-c5ca-4745-b37f-b6f19ee198b7 div.sk-parallel-item:first-child::after {align-self: flex-end;width: 50%;}#sk-78b15ff0-c5ca-4745-b37f-b6f19ee198b7 div.sk-parallel-item:last-child::after {align-self: flex-start;width: 50%;}#sk-78b15ff0-c5ca-4745-b37f-b6f19ee198b7 div.sk-parallel-item:only-child::after {width: 0;}#sk-78b15ff0-c5ca-4745-b37f-b6f19ee198b7 div.sk-dashed-wrapped {border: 1px dashed gray;margin: 0 0.4em 0.5em 0.4em;box-sizing: border-box;padding-bottom: 0.4em;background-color: white;position: relative;}#sk-78b15ff0-c5ca-4745-b37f-b6f19ee198b7 div.sk-label label {font-family: monospace;font-weight: bold;background-color: white;display: inline-block;line-height: 1.2em;}#sk-78b15ff0-c5ca-4745-b37f-b6f19ee198b7 div.sk-label-container {position: relative;z-index: 2;text-align: center;}#sk-78b15ff0-c5ca-4745-b37f-b6f19ee198b7 div.sk-container {/* jupyter's `normalize.less` sets `[hidden] { display: none; }` but bootstrap.min.css set `[hidden] { display: none !important; }` so we also need the `!important` here to be able to override the default hidden behavior on the sphinx rendered scikit-learn.org. See: https://github.com/scikit-learn/scikit-learn/issues/21755 */display: inline-block !important;position: relative;}#sk-78b15ff0-c5ca-4745-b37f-b6f19ee198b7 div.sk-text-repr-fallback {display: none;}</style><div id=\"sk-78b15ff0-c5ca-4745-b37f-b6f19ee198b7\" class=\"sk-top-container\"><div class=\"sk-text-repr-fallback\"><pre>ColumnTransformer(remainder=&#x27;passthrough&#x27;,\n",
              "                  transformers=[(&#x27;pipeline-1&#x27;,\n",
              "                                 Pipeline(steps=[(&#x27;simpleimputer&#x27;,\n",
              "                                                  SimpleImputer()),\n",
              "                                                 (&#x27;standardscaler&#x27;,\n",
              "                                                  StandardScaler())]),\n",
              "                                 &lt;sklearn.compose._column_transformer.make_column_selector object at 0x7f57a761c6d0&gt;),\n",
              "                                (&#x27;pipeline-2&#x27;,\n",
              "                                 Pipeline(steps=[(&#x27;simpleimputer&#x27;,\n",
              "                                                  SimpleImputer(strategy=&#x27;most_frequent&#x27;)),\n",
              "                                                 (&#x27;onehotencoder&#x27;,\n",
              "                                                  OneHotEncoder(handle_unknown=&#x27;ignore&#x27;,\n",
              "                                                                sparse=False))]),\n",
              "                                 &lt;sklearn.compose._column_transformer.make_column_selector object at 0x7f57a761c550&gt;)])</pre><b>Please rerun this cell to show the HTML repr or trust the notebook.</b></div><div class=\"sk-container\" hidden><div class=\"sk-item sk-dashed-wrapped\"><div class=\"sk-label-container\"><div class=\"sk-label sk-toggleable\"><input class=\"sk-toggleable__control sk-hidden--visually\" id=\"e6cc2f6f-95cd-4a9d-be07-4524c4306c2e\" type=\"checkbox\" ><label for=\"e6cc2f6f-95cd-4a9d-be07-4524c4306c2e\" class=\"sk-toggleable__label sk-toggleable__label-arrow\">ColumnTransformer</label><div class=\"sk-toggleable__content\"><pre>ColumnTransformer(remainder=&#x27;passthrough&#x27;,\n",
              "                  transformers=[(&#x27;pipeline-1&#x27;,\n",
              "                                 Pipeline(steps=[(&#x27;simpleimputer&#x27;,\n",
              "                                                  SimpleImputer()),\n",
              "                                                 (&#x27;standardscaler&#x27;,\n",
              "                                                  StandardScaler())]),\n",
              "                                 &lt;sklearn.compose._column_transformer.make_column_selector object at 0x7f57a761c6d0&gt;),\n",
              "                                (&#x27;pipeline-2&#x27;,\n",
              "                                 Pipeline(steps=[(&#x27;simpleimputer&#x27;,\n",
              "                                                  SimpleImputer(strategy=&#x27;most_frequent&#x27;)),\n",
              "                                                 (&#x27;onehotencoder&#x27;,\n",
              "                                                  OneHotEncoder(handle_unknown=&#x27;ignore&#x27;,\n",
              "                                                                sparse=False))]),\n",
              "                                 &lt;sklearn.compose._column_transformer.make_column_selector object at 0x7f57a761c550&gt;)])</pre></div></div></div><div class=\"sk-parallel\"><div class=\"sk-parallel-item\"><div class=\"sk-item\"><div class=\"sk-label-container\"><div class=\"sk-label sk-toggleable\"><input class=\"sk-toggleable__control sk-hidden--visually\" id=\"3013ec15-a42b-4879-8cb5-1fb2c667a161\" type=\"checkbox\" ><label for=\"3013ec15-a42b-4879-8cb5-1fb2c667a161\" class=\"sk-toggleable__label sk-toggleable__label-arrow\">pipeline-1</label><div class=\"sk-toggleable__content\"><pre>&lt;sklearn.compose._column_transformer.make_column_selector object at 0x7f57a761c6d0&gt;</pre></div></div></div><div class=\"sk-serial\"><div class=\"sk-item\"><div class=\"sk-serial\"><div class=\"sk-item\"><div class=\"sk-estimator sk-toggleable\"><input class=\"sk-toggleable__control sk-hidden--visually\" id=\"5e622c24-a99c-44e4-b0d9-ce2e63f6c04c\" type=\"checkbox\" ><label for=\"5e622c24-a99c-44e4-b0d9-ce2e63f6c04c\" class=\"sk-toggleable__label sk-toggleable__label-arrow\">SimpleImputer</label><div class=\"sk-toggleable__content\"><pre>SimpleImputer()</pre></div></div></div><div class=\"sk-item\"><div class=\"sk-estimator sk-toggleable\"><input class=\"sk-toggleable__control sk-hidden--visually\" id=\"3645bf77-4101-447d-b34a-7cbbb468850e\" type=\"checkbox\" ><label for=\"3645bf77-4101-447d-b34a-7cbbb468850e\" class=\"sk-toggleable__label sk-toggleable__label-arrow\">StandardScaler</label><div class=\"sk-toggleable__content\"><pre>StandardScaler()</pre></div></div></div></div></div></div></div></div><div class=\"sk-parallel-item\"><div class=\"sk-item\"><div class=\"sk-label-container\"><div class=\"sk-label sk-toggleable\"><input class=\"sk-toggleable__control sk-hidden--visually\" id=\"1f99927b-20b8-4059-b276-17025b5d8603\" type=\"checkbox\" ><label for=\"1f99927b-20b8-4059-b276-17025b5d8603\" class=\"sk-toggleable__label sk-toggleable__label-arrow\">pipeline-2</label><div class=\"sk-toggleable__content\"><pre>&lt;sklearn.compose._column_transformer.make_column_selector object at 0x7f57a761c550&gt;</pre></div></div></div><div class=\"sk-serial\"><div class=\"sk-item\"><div class=\"sk-serial\"><div class=\"sk-item\"><div class=\"sk-estimator sk-toggleable\"><input class=\"sk-toggleable__control sk-hidden--visually\" id=\"893e4e3a-af4c-4320-b8a7-3f2eea8bbf7b\" type=\"checkbox\" ><label for=\"893e4e3a-af4c-4320-b8a7-3f2eea8bbf7b\" class=\"sk-toggleable__label sk-toggleable__label-arrow\">SimpleImputer</label><div class=\"sk-toggleable__content\"><pre>SimpleImputer(strategy=&#x27;most_frequent&#x27;)</pre></div></div></div><div class=\"sk-item\"><div class=\"sk-estimator sk-toggleable\"><input class=\"sk-toggleable__control sk-hidden--visually\" id=\"0372227c-2ee9-4fac-9d5e-fbb0886021c1\" type=\"checkbox\" ><label for=\"0372227c-2ee9-4fac-9d5e-fbb0886021c1\" class=\"sk-toggleable__label sk-toggleable__label-arrow\">OneHotEncoder</label><div class=\"sk-toggleable__content\"><pre>OneHotEncoder(handle_unknown=&#x27;ignore&#x27;, sparse=False)</pre></div></div></div></div></div></div></div></div><div class=\"sk-parallel-item\"><div class=\"sk-item\"><div class=\"sk-label-container\"><div class=\"sk-label sk-toggleable\"><input class=\"sk-toggleable__control sk-hidden--visually\" id=\"43d11459-f5da-4769-b4c1-0c3ad422c3dd\" type=\"checkbox\" ><label for=\"43d11459-f5da-4769-b4c1-0c3ad422c3dd\" class=\"sk-toggleable__label sk-toggleable__label-arrow\">remainder</label><div class=\"sk-toggleable__content\"><pre></pre></div></div></div><div class=\"sk-serial\"><div class=\"sk-item\"><div class=\"sk-estimator sk-toggleable\"><input class=\"sk-toggleable__control sk-hidden--visually\" id=\"7744b97b-94d6-48f8-a3fb-a4d286f12780\" type=\"checkbox\" ><label for=\"7744b97b-94d6-48f8-a3fb-a4d286f12780\" class=\"sk-toggleable__label sk-toggleable__label-arrow\">passthrough</label><div class=\"sk-toggleable__content\"><pre>passthrough</pre></div></div></div></div></div></div></div></div></div></div>"
            ]
          },
          "metadata": {},
          "execution_count": 60
        }
      ]
    },
    {
      "cell_type": "code",
      "source": [
        "preprocessor.fit(X_train)"
      ],
      "metadata": {
        "colab": {
          "base_uri": "https://localhost:8080/",
          "height": 152
        },
        "id": "sKx8d3WpMLNg",
        "outputId": "f0b6d7b0-d1e5-4216-810f-161b0c5ba7d6"
      },
      "execution_count": 61,
      "outputs": [
        {
          "output_type": "execute_result",
          "data": {
            "text/plain": [
              "ColumnTransformer(remainder='passthrough',\n",
              "                  transformers=[('pipeline-1',\n",
              "                                 Pipeline(steps=[('simpleimputer',\n",
              "                                                  SimpleImputer()),\n",
              "                                                 ('standardscaler',\n",
              "                                                  StandardScaler())]),\n",
              "                                 <sklearn.compose._column_transformer.make_column_selector object at 0x7f57a761c6d0>),\n",
              "                                ('pipeline-2',\n",
              "                                 Pipeline(steps=[('simpleimputer',\n",
              "                                                  SimpleImputer(strategy='most_frequent')),\n",
              "                                                 ('onehotencoder',\n",
              "                                                  OneHotEncoder(handle_unknown='ignore',\n",
              "                                                                sparse=False))]),\n",
              "                                 <sklearn.compose._column_transformer.make_column_selector object at 0x7f57a761c550>)])"
            ],
            "text/html": [
              "<style>#sk-757c3c9b-c88c-4fd5-a769-caad46a44f3b {color: black;background-color: white;}#sk-757c3c9b-c88c-4fd5-a769-caad46a44f3b pre{padding: 0;}#sk-757c3c9b-c88c-4fd5-a769-caad46a44f3b div.sk-toggleable {background-color: white;}#sk-757c3c9b-c88c-4fd5-a769-caad46a44f3b label.sk-toggleable__label {cursor: pointer;display: block;width: 100%;margin-bottom: 0;padding: 0.3em;box-sizing: border-box;text-align: center;}#sk-757c3c9b-c88c-4fd5-a769-caad46a44f3b label.sk-toggleable__label-arrow:before {content: \"▸\";float: left;margin-right: 0.25em;color: #696969;}#sk-757c3c9b-c88c-4fd5-a769-caad46a44f3b label.sk-toggleable__label-arrow:hover:before {color: black;}#sk-757c3c9b-c88c-4fd5-a769-caad46a44f3b div.sk-estimator:hover label.sk-toggleable__label-arrow:before {color: black;}#sk-757c3c9b-c88c-4fd5-a769-caad46a44f3b div.sk-toggleable__content {max-height: 0;max-width: 0;overflow: hidden;text-align: left;background-color: #f0f8ff;}#sk-757c3c9b-c88c-4fd5-a769-caad46a44f3b div.sk-toggleable__content pre {margin: 0.2em;color: black;border-radius: 0.25em;background-color: #f0f8ff;}#sk-757c3c9b-c88c-4fd5-a769-caad46a44f3b input.sk-toggleable__control:checked~div.sk-toggleable__content {max-height: 200px;max-width: 100%;overflow: auto;}#sk-757c3c9b-c88c-4fd5-a769-caad46a44f3b input.sk-toggleable__control:checked~label.sk-toggleable__label-arrow:before {content: \"▾\";}#sk-757c3c9b-c88c-4fd5-a769-caad46a44f3b div.sk-estimator input.sk-toggleable__control:checked~label.sk-toggleable__label {background-color: #d4ebff;}#sk-757c3c9b-c88c-4fd5-a769-caad46a44f3b div.sk-label input.sk-toggleable__control:checked~label.sk-toggleable__label {background-color: #d4ebff;}#sk-757c3c9b-c88c-4fd5-a769-caad46a44f3b input.sk-hidden--visually {border: 0;clip: rect(1px 1px 1px 1px);clip: rect(1px, 1px, 1px, 1px);height: 1px;margin: -1px;overflow: hidden;padding: 0;position: absolute;width: 1px;}#sk-757c3c9b-c88c-4fd5-a769-caad46a44f3b div.sk-estimator {font-family: monospace;background-color: #f0f8ff;border: 1px dotted black;border-radius: 0.25em;box-sizing: border-box;margin-bottom: 0.5em;}#sk-757c3c9b-c88c-4fd5-a769-caad46a44f3b div.sk-estimator:hover {background-color: #d4ebff;}#sk-757c3c9b-c88c-4fd5-a769-caad46a44f3b div.sk-parallel-item::after {content: \"\";width: 100%;border-bottom: 1px solid gray;flex-grow: 1;}#sk-757c3c9b-c88c-4fd5-a769-caad46a44f3b div.sk-label:hover label.sk-toggleable__label {background-color: #d4ebff;}#sk-757c3c9b-c88c-4fd5-a769-caad46a44f3b div.sk-serial::before {content: \"\";position: absolute;border-left: 1px solid gray;box-sizing: border-box;top: 2em;bottom: 0;left: 50%;}#sk-757c3c9b-c88c-4fd5-a769-caad46a44f3b div.sk-serial {display: flex;flex-direction: column;align-items: center;background-color: white;padding-right: 0.2em;padding-left: 0.2em;}#sk-757c3c9b-c88c-4fd5-a769-caad46a44f3b div.sk-item {z-index: 1;}#sk-757c3c9b-c88c-4fd5-a769-caad46a44f3b div.sk-parallel {display: flex;align-items: stretch;justify-content: center;background-color: white;}#sk-757c3c9b-c88c-4fd5-a769-caad46a44f3b div.sk-parallel::before {content: \"\";position: absolute;border-left: 1px solid gray;box-sizing: border-box;top: 2em;bottom: 0;left: 50%;}#sk-757c3c9b-c88c-4fd5-a769-caad46a44f3b div.sk-parallel-item {display: flex;flex-direction: column;position: relative;background-color: white;}#sk-757c3c9b-c88c-4fd5-a769-caad46a44f3b div.sk-parallel-item:first-child::after {align-self: flex-end;width: 50%;}#sk-757c3c9b-c88c-4fd5-a769-caad46a44f3b div.sk-parallel-item:last-child::after {align-self: flex-start;width: 50%;}#sk-757c3c9b-c88c-4fd5-a769-caad46a44f3b div.sk-parallel-item:only-child::after {width: 0;}#sk-757c3c9b-c88c-4fd5-a769-caad46a44f3b div.sk-dashed-wrapped {border: 1px dashed gray;margin: 0 0.4em 0.5em 0.4em;box-sizing: border-box;padding-bottom: 0.4em;background-color: white;position: relative;}#sk-757c3c9b-c88c-4fd5-a769-caad46a44f3b div.sk-label label {font-family: monospace;font-weight: bold;background-color: white;display: inline-block;line-height: 1.2em;}#sk-757c3c9b-c88c-4fd5-a769-caad46a44f3b div.sk-label-container {position: relative;z-index: 2;text-align: center;}#sk-757c3c9b-c88c-4fd5-a769-caad46a44f3b div.sk-container {/* jupyter's `normalize.less` sets `[hidden] { display: none; }` but bootstrap.min.css set `[hidden] { display: none !important; }` so we also need the `!important` here to be able to override the default hidden behavior on the sphinx rendered scikit-learn.org. See: https://github.com/scikit-learn/scikit-learn/issues/21755 */display: inline-block !important;position: relative;}#sk-757c3c9b-c88c-4fd5-a769-caad46a44f3b div.sk-text-repr-fallback {display: none;}</style><div id=\"sk-757c3c9b-c88c-4fd5-a769-caad46a44f3b\" class=\"sk-top-container\"><div class=\"sk-text-repr-fallback\"><pre>ColumnTransformer(remainder=&#x27;passthrough&#x27;,\n",
              "                  transformers=[(&#x27;pipeline-1&#x27;,\n",
              "                                 Pipeline(steps=[(&#x27;simpleimputer&#x27;,\n",
              "                                                  SimpleImputer()),\n",
              "                                                 (&#x27;standardscaler&#x27;,\n",
              "                                                  StandardScaler())]),\n",
              "                                 &lt;sklearn.compose._column_transformer.make_column_selector object at 0x7f57a761c6d0&gt;),\n",
              "                                (&#x27;pipeline-2&#x27;,\n",
              "                                 Pipeline(steps=[(&#x27;simpleimputer&#x27;,\n",
              "                                                  SimpleImputer(strategy=&#x27;most_frequent&#x27;)),\n",
              "                                                 (&#x27;onehotencoder&#x27;,\n",
              "                                                  OneHotEncoder(handle_unknown=&#x27;ignore&#x27;,\n",
              "                                                                sparse=False))]),\n",
              "                                 &lt;sklearn.compose._column_transformer.make_column_selector object at 0x7f57a761c550&gt;)])</pre><b>Please rerun this cell to show the HTML repr or trust the notebook.</b></div><div class=\"sk-container\" hidden><div class=\"sk-item sk-dashed-wrapped\"><div class=\"sk-label-container\"><div class=\"sk-label sk-toggleable\"><input class=\"sk-toggleable__control sk-hidden--visually\" id=\"5cf27645-ee0c-40ea-9559-a46d82455696\" type=\"checkbox\" ><label for=\"5cf27645-ee0c-40ea-9559-a46d82455696\" class=\"sk-toggleable__label sk-toggleable__label-arrow\">ColumnTransformer</label><div class=\"sk-toggleable__content\"><pre>ColumnTransformer(remainder=&#x27;passthrough&#x27;,\n",
              "                  transformers=[(&#x27;pipeline-1&#x27;,\n",
              "                                 Pipeline(steps=[(&#x27;simpleimputer&#x27;,\n",
              "                                                  SimpleImputer()),\n",
              "                                                 (&#x27;standardscaler&#x27;,\n",
              "                                                  StandardScaler())]),\n",
              "                                 &lt;sklearn.compose._column_transformer.make_column_selector object at 0x7f57a761c6d0&gt;),\n",
              "                                (&#x27;pipeline-2&#x27;,\n",
              "                                 Pipeline(steps=[(&#x27;simpleimputer&#x27;,\n",
              "                                                  SimpleImputer(strategy=&#x27;most_frequent&#x27;)),\n",
              "                                                 (&#x27;onehotencoder&#x27;,\n",
              "                                                  OneHotEncoder(handle_unknown=&#x27;ignore&#x27;,\n",
              "                                                                sparse=False))]),\n",
              "                                 &lt;sklearn.compose._column_transformer.make_column_selector object at 0x7f57a761c550&gt;)])</pre></div></div></div><div class=\"sk-parallel\"><div class=\"sk-parallel-item\"><div class=\"sk-item\"><div class=\"sk-label-container\"><div class=\"sk-label sk-toggleable\"><input class=\"sk-toggleable__control sk-hidden--visually\" id=\"df604db8-af69-49a0-a5ed-6298a7c2af00\" type=\"checkbox\" ><label for=\"df604db8-af69-49a0-a5ed-6298a7c2af00\" class=\"sk-toggleable__label sk-toggleable__label-arrow\">pipeline-1</label><div class=\"sk-toggleable__content\"><pre>&lt;sklearn.compose._column_transformer.make_column_selector object at 0x7f57a761c6d0&gt;</pre></div></div></div><div class=\"sk-serial\"><div class=\"sk-item\"><div class=\"sk-serial\"><div class=\"sk-item\"><div class=\"sk-estimator sk-toggleable\"><input class=\"sk-toggleable__control sk-hidden--visually\" id=\"67a32bfe-7b93-4ff5-98bc-55f26cd6a855\" type=\"checkbox\" ><label for=\"67a32bfe-7b93-4ff5-98bc-55f26cd6a855\" class=\"sk-toggleable__label sk-toggleable__label-arrow\">SimpleImputer</label><div class=\"sk-toggleable__content\"><pre>SimpleImputer()</pre></div></div></div><div class=\"sk-item\"><div class=\"sk-estimator sk-toggleable\"><input class=\"sk-toggleable__control sk-hidden--visually\" id=\"0f293faf-cb88-4ca9-aa4b-c5cb536607be\" type=\"checkbox\" ><label for=\"0f293faf-cb88-4ca9-aa4b-c5cb536607be\" class=\"sk-toggleable__label sk-toggleable__label-arrow\">StandardScaler</label><div class=\"sk-toggleable__content\"><pre>StandardScaler()</pre></div></div></div></div></div></div></div></div><div class=\"sk-parallel-item\"><div class=\"sk-item\"><div class=\"sk-label-container\"><div class=\"sk-label sk-toggleable\"><input class=\"sk-toggleable__control sk-hidden--visually\" id=\"bf3d200d-1b3a-4c39-9926-238a3b54395b\" type=\"checkbox\" ><label for=\"bf3d200d-1b3a-4c39-9926-238a3b54395b\" class=\"sk-toggleable__label sk-toggleable__label-arrow\">pipeline-2</label><div class=\"sk-toggleable__content\"><pre>&lt;sklearn.compose._column_transformer.make_column_selector object at 0x7f57a761c550&gt;</pre></div></div></div><div class=\"sk-serial\"><div class=\"sk-item\"><div class=\"sk-serial\"><div class=\"sk-item\"><div class=\"sk-estimator sk-toggleable\"><input class=\"sk-toggleable__control sk-hidden--visually\" id=\"268aaf27-885f-4de8-9b60-ff6050bc749b\" type=\"checkbox\" ><label for=\"268aaf27-885f-4de8-9b60-ff6050bc749b\" class=\"sk-toggleable__label sk-toggleable__label-arrow\">SimpleImputer</label><div class=\"sk-toggleable__content\"><pre>SimpleImputer(strategy=&#x27;most_frequent&#x27;)</pre></div></div></div><div class=\"sk-item\"><div class=\"sk-estimator sk-toggleable\"><input class=\"sk-toggleable__control sk-hidden--visually\" id=\"d0863584-08c2-477c-aa5c-c8bf70f02f0f\" type=\"checkbox\" ><label for=\"d0863584-08c2-477c-aa5c-c8bf70f02f0f\" class=\"sk-toggleable__label sk-toggleable__label-arrow\">OneHotEncoder</label><div class=\"sk-toggleable__content\"><pre>OneHotEncoder(handle_unknown=&#x27;ignore&#x27;, sparse=False)</pre></div></div></div></div></div></div></div></div><div class=\"sk-parallel-item\"><div class=\"sk-item\"><div class=\"sk-label-container\"><div class=\"sk-label sk-toggleable\"><input class=\"sk-toggleable__control sk-hidden--visually\" id=\"90912d2c-b4af-48af-a66d-aff3442086da\" type=\"checkbox\" ><label for=\"90912d2c-b4af-48af-a66d-aff3442086da\" class=\"sk-toggleable__label sk-toggleable__label-arrow\">remainder</label><div class=\"sk-toggleable__content\"><pre>[]</pre></div></div></div><div class=\"sk-serial\"><div class=\"sk-item\"><div class=\"sk-estimator sk-toggleable\"><input class=\"sk-toggleable__control sk-hidden--visually\" id=\"fe2b5463-83a8-4182-887f-8cb2d02a18bb\" type=\"checkbox\" ><label for=\"fe2b5463-83a8-4182-887f-8cb2d02a18bb\" class=\"sk-toggleable__label sk-toggleable__label-arrow\">passthrough</label><div class=\"sk-toggleable__content\"><pre>passthrough</pre></div></div></div></div></div></div></div></div></div></div>"
            ]
          },
          "metadata": {},
          "execution_count": 61
        }
      ]
    },
    {
      "cell_type": "code",
      "source": [
        "X_train_processed = preprocessor.transform(X_train)\n",
        "X_test_processed = preprocessor.transform(X_test)"
      ],
      "metadata": {
        "id": "pmbgTBcLMUxf"
      },
      "execution_count": 62,
      "outputs": []
    },
    {
      "cell_type": "markdown",
      "metadata": {
        "id": "hq_pkM5uhR2K"
      },
      "source": [
        "### Modeling: LogisticRegression"
      ]
    },
    {
      "cell_type": "code",
      "execution_count": 31,
      "metadata": {
        "id": "gJ2GWmF-iLMt",
        "colab": {
          "base_uri": "https://localhost:8080/",
          "height": 234
        },
        "outputId": "8fc2bdef-5e0b-43dd-ab3f-bc8abadb7751"
      },
      "outputs": [
        {
          "output_type": "stream",
          "name": "stderr",
          "text": [
            "/usr/local/lib/python3.7/dist-packages/sklearn/linear_model/_logistic.py:818: ConvergenceWarning: lbfgs failed to converge (status=1):\n",
            "STOP: TOTAL NO. of ITERATIONS REACHED LIMIT.\n",
            "\n",
            "Increase the number of iterations (max_iter) or scale the data as shown in:\n",
            "    https://scikit-learn.org/stable/modules/preprocessing.html\n",
            "Please also refer to the documentation for alternative solver options:\n",
            "    https://scikit-learn.org/stable/modules/linear_model.html#logistic-regression\n",
            "  extra_warning_msg=_LOGISTIC_SOLVER_CONVERGENCE_MSG,\n"
          ]
        },
        {
          "output_type": "execute_result",
          "data": {
            "text/plain": [
              "Pipeline(steps=[('logisticregression', LogisticRegression(C=1000))])"
            ],
            "text/html": [
              "<style>#sk-78540ee8-7bb1-474b-984d-093406e22f8d {color: black;background-color: white;}#sk-78540ee8-7bb1-474b-984d-093406e22f8d pre{padding: 0;}#sk-78540ee8-7bb1-474b-984d-093406e22f8d div.sk-toggleable {background-color: white;}#sk-78540ee8-7bb1-474b-984d-093406e22f8d label.sk-toggleable__label {cursor: pointer;display: block;width: 100%;margin-bottom: 0;padding: 0.3em;box-sizing: border-box;text-align: center;}#sk-78540ee8-7bb1-474b-984d-093406e22f8d label.sk-toggleable__label-arrow:before {content: \"▸\";float: left;margin-right: 0.25em;color: #696969;}#sk-78540ee8-7bb1-474b-984d-093406e22f8d label.sk-toggleable__label-arrow:hover:before {color: black;}#sk-78540ee8-7bb1-474b-984d-093406e22f8d div.sk-estimator:hover label.sk-toggleable__label-arrow:before {color: black;}#sk-78540ee8-7bb1-474b-984d-093406e22f8d div.sk-toggleable__content {max-height: 0;max-width: 0;overflow: hidden;text-align: left;background-color: #f0f8ff;}#sk-78540ee8-7bb1-474b-984d-093406e22f8d div.sk-toggleable__content pre {margin: 0.2em;color: black;border-radius: 0.25em;background-color: #f0f8ff;}#sk-78540ee8-7bb1-474b-984d-093406e22f8d input.sk-toggleable__control:checked~div.sk-toggleable__content {max-height: 200px;max-width: 100%;overflow: auto;}#sk-78540ee8-7bb1-474b-984d-093406e22f8d input.sk-toggleable__control:checked~label.sk-toggleable__label-arrow:before {content: \"▾\";}#sk-78540ee8-7bb1-474b-984d-093406e22f8d div.sk-estimator input.sk-toggleable__control:checked~label.sk-toggleable__label {background-color: #d4ebff;}#sk-78540ee8-7bb1-474b-984d-093406e22f8d div.sk-label input.sk-toggleable__control:checked~label.sk-toggleable__label {background-color: #d4ebff;}#sk-78540ee8-7bb1-474b-984d-093406e22f8d input.sk-hidden--visually {border: 0;clip: rect(1px 1px 1px 1px);clip: rect(1px, 1px, 1px, 1px);height: 1px;margin: -1px;overflow: hidden;padding: 0;position: absolute;width: 1px;}#sk-78540ee8-7bb1-474b-984d-093406e22f8d div.sk-estimator {font-family: monospace;background-color: #f0f8ff;border: 1px dotted black;border-radius: 0.25em;box-sizing: border-box;margin-bottom: 0.5em;}#sk-78540ee8-7bb1-474b-984d-093406e22f8d div.sk-estimator:hover {background-color: #d4ebff;}#sk-78540ee8-7bb1-474b-984d-093406e22f8d div.sk-parallel-item::after {content: \"\";width: 100%;border-bottom: 1px solid gray;flex-grow: 1;}#sk-78540ee8-7bb1-474b-984d-093406e22f8d div.sk-label:hover label.sk-toggleable__label {background-color: #d4ebff;}#sk-78540ee8-7bb1-474b-984d-093406e22f8d div.sk-serial::before {content: \"\";position: absolute;border-left: 1px solid gray;box-sizing: border-box;top: 2em;bottom: 0;left: 50%;}#sk-78540ee8-7bb1-474b-984d-093406e22f8d div.sk-serial {display: flex;flex-direction: column;align-items: center;background-color: white;padding-right: 0.2em;padding-left: 0.2em;}#sk-78540ee8-7bb1-474b-984d-093406e22f8d div.sk-item {z-index: 1;}#sk-78540ee8-7bb1-474b-984d-093406e22f8d div.sk-parallel {display: flex;align-items: stretch;justify-content: center;background-color: white;}#sk-78540ee8-7bb1-474b-984d-093406e22f8d div.sk-parallel::before {content: \"\";position: absolute;border-left: 1px solid gray;box-sizing: border-box;top: 2em;bottom: 0;left: 50%;}#sk-78540ee8-7bb1-474b-984d-093406e22f8d div.sk-parallel-item {display: flex;flex-direction: column;position: relative;background-color: white;}#sk-78540ee8-7bb1-474b-984d-093406e22f8d div.sk-parallel-item:first-child::after {align-self: flex-end;width: 50%;}#sk-78540ee8-7bb1-474b-984d-093406e22f8d div.sk-parallel-item:last-child::after {align-self: flex-start;width: 50%;}#sk-78540ee8-7bb1-474b-984d-093406e22f8d div.sk-parallel-item:only-child::after {width: 0;}#sk-78540ee8-7bb1-474b-984d-093406e22f8d div.sk-dashed-wrapped {border: 1px dashed gray;margin: 0 0.4em 0.5em 0.4em;box-sizing: border-box;padding-bottom: 0.4em;background-color: white;position: relative;}#sk-78540ee8-7bb1-474b-984d-093406e22f8d div.sk-label label {font-family: monospace;font-weight: bold;background-color: white;display: inline-block;line-height: 1.2em;}#sk-78540ee8-7bb1-474b-984d-093406e22f8d div.sk-label-container {position: relative;z-index: 2;text-align: center;}#sk-78540ee8-7bb1-474b-984d-093406e22f8d div.sk-container {/* jupyter's `normalize.less` sets `[hidden] { display: none; }` but bootstrap.min.css set `[hidden] { display: none !important; }` so we also need the `!important` here to be able to override the default hidden behavior on the sphinx rendered scikit-learn.org. See: https://github.com/scikit-learn/scikit-learn/issues/21755 */display: inline-block !important;position: relative;}#sk-78540ee8-7bb1-474b-984d-093406e22f8d div.sk-text-repr-fallback {display: none;}</style><div id=\"sk-78540ee8-7bb1-474b-984d-093406e22f8d\" class=\"sk-top-container\"><div class=\"sk-text-repr-fallback\"><pre>Pipeline(steps=[(&#x27;logisticregression&#x27;, LogisticRegression(C=1000))])</pre><b>Please rerun this cell to show the HTML repr or trust the notebook.</b></div><div class=\"sk-container\" hidden><div class=\"sk-item sk-dashed-wrapped\"><div class=\"sk-label-container\"><div class=\"sk-label sk-toggleable\"><input class=\"sk-toggleable__control sk-hidden--visually\" id=\"9bf02c08-2d8c-4c1a-9e3d-e335d1483b5d\" type=\"checkbox\" ><label for=\"9bf02c08-2d8c-4c1a-9e3d-e335d1483b5d\" class=\"sk-toggleable__label sk-toggleable__label-arrow\">Pipeline</label><div class=\"sk-toggleable__content\"><pre>Pipeline(steps=[(&#x27;logisticregression&#x27;, LogisticRegression(C=1000))])</pre></div></div></div><div class=\"sk-serial\"><div class=\"sk-item\"><div class=\"sk-estimator sk-toggleable\"><input class=\"sk-toggleable__control sk-hidden--visually\" id=\"09b6724a-2e5b-47b3-8e7d-636782c8f896\" type=\"checkbox\" ><label for=\"09b6724a-2e5b-47b3-8e7d-636782c8f896\" class=\"sk-toggleable__label sk-toggleable__label-arrow\">LogisticRegression</label><div class=\"sk-toggleable__content\"><pre>LogisticRegression(C=1000)</pre></div></div></div></div></div></div></div>"
            ]
          },
          "metadata": {},
          "execution_count": 31
        }
      ],
      "source": [
        "logreg = LogisticRegression(C = 1000)\n",
        "logreg_pipe = make_pipeline(logreg)\n",
        "logreg_pipe.fit(X_train_processed,y_train)"
      ]
    },
    {
      "cell_type": "code",
      "source": [
        "print(logreg_pipe.score(X_train_processed, y_train))\n",
        "print(logreg_pipe.score(X_test_processed, y_test))"
      ],
      "metadata": {
        "colab": {
          "base_uri": "https://localhost:8080/"
        },
        "id": "5RQPHNKxMpXM",
        "outputId": "5304e217-c409-4554-ecab-d95fe173f3a1"
      },
      "execution_count": 32,
      "outputs": [
        {
          "output_type": "stream",
          "name": "stdout",
          "text": [
            "0.9823783841512255\n",
            "0.9799759711653985\n"
          ]
        }
      ]
    },
    {
      "cell_type": "markdown",
      "source": [
        "### HyperTuning"
      ],
      "metadata": {
        "id": "fvfsvjNHQdlo"
      }
    },
    {
      "cell_type": "code",
      "source": [
        "# create a list of c values and empty lists for scores\n",
        "c_values = [0.0001, 0.001, 0.01, 0.1, 1, 10, 100, 1000]\n",
        "train_scores = []\n",
        "test_scores = []\n",
        "#iterative over the c values\n",
        "for c in c_values:\n",
        " \n",
        "  # instantiate a model with each value of c and fit it on the data\n",
        "  log_reg = LogisticRegression(C=c, max_iter=1000, solver='liblinear', penalty='l1')\n",
        "  log_reg_pipe = make_pipeline(scaler, log_reg)\n",
        "  log_reg_pipe.fit(X_train_processed, y_train)\n",
        " \n",
        "  # add the training and testing scores to our scores lists\n",
        "  train_scores.append(log_reg_pipe.score(X_train_processed, y_train))\n",
        "  test_scores.append(log_reg_pipe.score(X_test_processed, y_test))\n",
        " \n",
        "#plot the change in accuracy as we change the value of C\n",
        "fig, ax = plt.subplots(1,1)\n",
        "ax.plot(c_values, train_scores, label='Training Accuracy')\n",
        "ax.plot(c_values, test_scores, label='Testing Accuracy')\n",
        "ax.set_xticks(c_values)\n",
        "ax.set_title('Change in accuracy over C values for l1 regularization')\n",
        "ax.legend()\n",
        " \n",
        "#set the x axis to a logarithmic scale to show the values of C in even intervals\n",
        "ax.set_xscale('log')\n",
        "# print a dictionary of values of C and accuracy scores\n",
        "{c:score for c, score in zip(c_values, test_scores)}\n"
      ],
      "metadata": {
        "id": "6ZMjJkFEQDLM"
      },
      "execution_count": null,
      "outputs": []
    },
    {
      "cell_type": "code",
      "source": [
        "# create a list of c values and empty lists for scores\n",
        "c_values = [0.0001, 0.001, 0.01, 0.1, 1, 10, 100, 1000]\n",
        "train_scores = []\n",
        "test_scores = []\n",
        "#iterative over the c values\n",
        "for c in c_values:\n",
        "  # instantiate a model with each value of c and fit it on the data\n",
        "  log_reg = LogisticRegression(C=c, max_iter=1000, solver='liblinear', penalty='l2')\n",
        "  log_reg_pipe = make_pipeline(scaler, log_reg)\n",
        "  log_reg_pipe.fit(X_train, y_train)\n",
        " \n",
        "  # add the training and testing scores to our scores lists\n",
        "  train_scores.append(log_reg_pipe.score(X_train, y_train))\n",
        "  test_scores.append(log_reg_pipe.score(X_test, y_test))\n",
        "  \n",
        "#plot the change in accuracy as we change the value of C\n",
        "fig, ax = plt.subplots(1,1)\n",
        "ax.plot(c_values, train_scores, label='Training Accuracy')\n",
        "ax.plot(c_values, test_scores, label='Testing Accuracy')\n",
        "ax.set_xticks(c_values)\n",
        "ax.set_title('Change in accuracy over C values for l2 regularization')\n",
        "ax.legend()\n",
        "#set the x axis to a logarithmic scale to show the values of C in even intervals\n",
        "ax.set_xscale('log')\n",
        "# print a dictionary of values of C and accuracy scores\n",
        "{c:score for c, score in zip(c_values, test_scores)}"
      ],
      "metadata": {
        "id": "KC3CJBnSQvQ2"
      },
      "execution_count": null,
      "outputs": []
    },
    {
      "cell_type": "code",
      "source": [
        "log_reg_l1_train_preds = best_l1_log_reg_pipe.predict(X_train_processed)\n",
        "log_reg_l1_test_preds = best_l1_log_reg_pipe.predict(X_test_processed)"
      ],
      "metadata": {
        "id": "3SH91eJmRzNh"
      },
      "execution_count": null,
      "outputs": []
    },
    {
      "cell_type": "code",
      "source": [
        "log_reg_l2_train_preds = best_l2_log_reg_pipe.predict(X_train_processed)\n",
        "log_reg_l2_test_preds = best_l2_log_reg_pipe.predict(X_test_processed)"
      ],
      "metadata": {
        "id": "TWMGjX2xU0rN"
      },
      "execution_count": null,
      "outputs": []
    },
    {
      "cell_type": "code",
      "source": [
        "best_l1_log_reg_report = classification_report(y_test, log_reg_l1_test_preds)\n",
        "best_l2_log_reg_report = classification_report(y_test, log_reg_l2_test_preds)\n",
        "\n",
        "print(f'L1 Tuned Logistics Classification Report \\n{best_l1_log_reg_report}');\n",
        "print('\\n')\n",
        "print(f'L2 Tuned Logistics Classification Report \\n{best_l2_log_reg_report}');\n",
        "print('\\n')"
      ],
      "metadata": {
        "id": "fSmYlDJLTwri"
      },
      "execution_count": null,
      "outputs": []
    },
    {
      "cell_type": "markdown",
      "metadata": {
        "id": "Fpxt1SeniZ1t"
      },
      "source": [
        "### Modeling: KNN"
      ]
    },
    {
      "cell_type": "markdown",
      "metadata": {
        "id": "tQOQIeUN5P6j"
      },
      "source": [
        "* Instantiate KNeighborsCalssifier\n",
        "* Make pipeline for knn "
      ]
    },
    {
      "cell_type": "code",
      "execution_count": 63,
      "metadata": {
        "colab": {
          "base_uri": "https://localhost:8080/",
          "height": 91
        },
        "id": "vIdCy1t85PHc",
        "outputId": "6663c61b-0f85-4066-b6fa-b74235df9a3d"
      },
      "outputs": [
        {
          "output_type": "execute_result",
          "data": {
            "text/plain": [
              "Pipeline(steps=[('kneighborsclassifier', KNeighborsClassifier())])"
            ],
            "text/html": [
              "<style>#sk-d8885849-344f-40d7-afc9-2aa6d9cfd2a6 {color: black;background-color: white;}#sk-d8885849-344f-40d7-afc9-2aa6d9cfd2a6 pre{padding: 0;}#sk-d8885849-344f-40d7-afc9-2aa6d9cfd2a6 div.sk-toggleable {background-color: white;}#sk-d8885849-344f-40d7-afc9-2aa6d9cfd2a6 label.sk-toggleable__label {cursor: pointer;display: block;width: 100%;margin-bottom: 0;padding: 0.3em;box-sizing: border-box;text-align: center;}#sk-d8885849-344f-40d7-afc9-2aa6d9cfd2a6 label.sk-toggleable__label-arrow:before {content: \"▸\";float: left;margin-right: 0.25em;color: #696969;}#sk-d8885849-344f-40d7-afc9-2aa6d9cfd2a6 label.sk-toggleable__label-arrow:hover:before {color: black;}#sk-d8885849-344f-40d7-afc9-2aa6d9cfd2a6 div.sk-estimator:hover label.sk-toggleable__label-arrow:before {color: black;}#sk-d8885849-344f-40d7-afc9-2aa6d9cfd2a6 div.sk-toggleable__content {max-height: 0;max-width: 0;overflow: hidden;text-align: left;background-color: #f0f8ff;}#sk-d8885849-344f-40d7-afc9-2aa6d9cfd2a6 div.sk-toggleable__content pre {margin: 0.2em;color: black;border-radius: 0.25em;background-color: #f0f8ff;}#sk-d8885849-344f-40d7-afc9-2aa6d9cfd2a6 input.sk-toggleable__control:checked~div.sk-toggleable__content {max-height: 200px;max-width: 100%;overflow: auto;}#sk-d8885849-344f-40d7-afc9-2aa6d9cfd2a6 input.sk-toggleable__control:checked~label.sk-toggleable__label-arrow:before {content: \"▾\";}#sk-d8885849-344f-40d7-afc9-2aa6d9cfd2a6 div.sk-estimator input.sk-toggleable__control:checked~label.sk-toggleable__label {background-color: #d4ebff;}#sk-d8885849-344f-40d7-afc9-2aa6d9cfd2a6 div.sk-label input.sk-toggleable__control:checked~label.sk-toggleable__label {background-color: #d4ebff;}#sk-d8885849-344f-40d7-afc9-2aa6d9cfd2a6 input.sk-hidden--visually {border: 0;clip: rect(1px 1px 1px 1px);clip: rect(1px, 1px, 1px, 1px);height: 1px;margin: -1px;overflow: hidden;padding: 0;position: absolute;width: 1px;}#sk-d8885849-344f-40d7-afc9-2aa6d9cfd2a6 div.sk-estimator {font-family: monospace;background-color: #f0f8ff;border: 1px dotted black;border-radius: 0.25em;box-sizing: border-box;margin-bottom: 0.5em;}#sk-d8885849-344f-40d7-afc9-2aa6d9cfd2a6 div.sk-estimator:hover {background-color: #d4ebff;}#sk-d8885849-344f-40d7-afc9-2aa6d9cfd2a6 div.sk-parallel-item::after {content: \"\";width: 100%;border-bottom: 1px solid gray;flex-grow: 1;}#sk-d8885849-344f-40d7-afc9-2aa6d9cfd2a6 div.sk-label:hover label.sk-toggleable__label {background-color: #d4ebff;}#sk-d8885849-344f-40d7-afc9-2aa6d9cfd2a6 div.sk-serial::before {content: \"\";position: absolute;border-left: 1px solid gray;box-sizing: border-box;top: 2em;bottom: 0;left: 50%;}#sk-d8885849-344f-40d7-afc9-2aa6d9cfd2a6 div.sk-serial {display: flex;flex-direction: column;align-items: center;background-color: white;padding-right: 0.2em;padding-left: 0.2em;}#sk-d8885849-344f-40d7-afc9-2aa6d9cfd2a6 div.sk-item {z-index: 1;}#sk-d8885849-344f-40d7-afc9-2aa6d9cfd2a6 div.sk-parallel {display: flex;align-items: stretch;justify-content: center;background-color: white;}#sk-d8885849-344f-40d7-afc9-2aa6d9cfd2a6 div.sk-parallel::before {content: \"\";position: absolute;border-left: 1px solid gray;box-sizing: border-box;top: 2em;bottom: 0;left: 50%;}#sk-d8885849-344f-40d7-afc9-2aa6d9cfd2a6 div.sk-parallel-item {display: flex;flex-direction: column;position: relative;background-color: white;}#sk-d8885849-344f-40d7-afc9-2aa6d9cfd2a6 div.sk-parallel-item:first-child::after {align-self: flex-end;width: 50%;}#sk-d8885849-344f-40d7-afc9-2aa6d9cfd2a6 div.sk-parallel-item:last-child::after {align-self: flex-start;width: 50%;}#sk-d8885849-344f-40d7-afc9-2aa6d9cfd2a6 div.sk-parallel-item:only-child::after {width: 0;}#sk-d8885849-344f-40d7-afc9-2aa6d9cfd2a6 div.sk-dashed-wrapped {border: 1px dashed gray;margin: 0 0.4em 0.5em 0.4em;box-sizing: border-box;padding-bottom: 0.4em;background-color: white;position: relative;}#sk-d8885849-344f-40d7-afc9-2aa6d9cfd2a6 div.sk-label label {font-family: monospace;font-weight: bold;background-color: white;display: inline-block;line-height: 1.2em;}#sk-d8885849-344f-40d7-afc9-2aa6d9cfd2a6 div.sk-label-container {position: relative;z-index: 2;text-align: center;}#sk-d8885849-344f-40d7-afc9-2aa6d9cfd2a6 div.sk-container {/* jupyter's `normalize.less` sets `[hidden] { display: none; }` but bootstrap.min.css set `[hidden] { display: none !important; }` so we also need the `!important` here to be able to override the default hidden behavior on the sphinx rendered scikit-learn.org. See: https://github.com/scikit-learn/scikit-learn/issues/21755 */display: inline-block !important;position: relative;}#sk-d8885849-344f-40d7-afc9-2aa6d9cfd2a6 div.sk-text-repr-fallback {display: none;}</style><div id=\"sk-d8885849-344f-40d7-afc9-2aa6d9cfd2a6\" class=\"sk-top-container\"><div class=\"sk-text-repr-fallback\"><pre>Pipeline(steps=[(&#x27;kneighborsclassifier&#x27;, KNeighborsClassifier())])</pre><b>Please rerun this cell to show the HTML repr or trust the notebook.</b></div><div class=\"sk-container\" hidden><div class=\"sk-item sk-dashed-wrapped\"><div class=\"sk-label-container\"><div class=\"sk-label sk-toggleable\"><input class=\"sk-toggleable__control sk-hidden--visually\" id=\"3564b0b7-5802-4620-8e07-9cb660e7ed6c\" type=\"checkbox\" ><label for=\"3564b0b7-5802-4620-8e07-9cb660e7ed6c\" class=\"sk-toggleable__label sk-toggleable__label-arrow\">Pipeline</label><div class=\"sk-toggleable__content\"><pre>Pipeline(steps=[(&#x27;kneighborsclassifier&#x27;, KNeighborsClassifier())])</pre></div></div></div><div class=\"sk-serial\"><div class=\"sk-item\"><div class=\"sk-estimator sk-toggleable\"><input class=\"sk-toggleable__control sk-hidden--visually\" id=\"8463a89b-27f8-4fb3-a218-fc661a570760\" type=\"checkbox\" ><label for=\"8463a89b-27f8-4fb3-a218-fc661a570760\" class=\"sk-toggleable__label sk-toggleable__label-arrow\">KNeighborsClassifier</label><div class=\"sk-toggleable__content\"><pre>KNeighborsClassifier()</pre></div></div></div></div></div></div></div>"
            ]
          },
          "metadata": {},
          "execution_count": 63
        }
      ],
      "source": [
        "knn = KNeighborsClassifier()\n",
        "knn_pipe = make_pipeline(knn)\n",
        "knn_pipe"
      ]
    },
    {
      "cell_type": "markdown",
      "metadata": {
        "id": "hl_fJ7cK5brJ"
      },
      "source": [
        "* Fit training data"
      ]
    },
    {
      "cell_type": "code",
      "execution_count": 64,
      "metadata": {
        "colab": {
          "base_uri": "https://localhost:8080/",
          "height": 91
        },
        "id": "sZK5AuiI5YtC",
        "outputId": "24160652-720d-46f9-f6e8-45f82b9389c7"
      },
      "outputs": [
        {
          "output_type": "execute_result",
          "data": {
            "text/plain": [
              "Pipeline(steps=[('kneighborsclassifier', KNeighborsClassifier())])"
            ],
            "text/html": [
              "<style>#sk-8c3694a0-f184-4a3e-b97e-c74b2fb8a29f {color: black;background-color: white;}#sk-8c3694a0-f184-4a3e-b97e-c74b2fb8a29f pre{padding: 0;}#sk-8c3694a0-f184-4a3e-b97e-c74b2fb8a29f div.sk-toggleable {background-color: white;}#sk-8c3694a0-f184-4a3e-b97e-c74b2fb8a29f label.sk-toggleable__label {cursor: pointer;display: block;width: 100%;margin-bottom: 0;padding: 0.3em;box-sizing: border-box;text-align: center;}#sk-8c3694a0-f184-4a3e-b97e-c74b2fb8a29f label.sk-toggleable__label-arrow:before {content: \"▸\";float: left;margin-right: 0.25em;color: #696969;}#sk-8c3694a0-f184-4a3e-b97e-c74b2fb8a29f label.sk-toggleable__label-arrow:hover:before {color: black;}#sk-8c3694a0-f184-4a3e-b97e-c74b2fb8a29f div.sk-estimator:hover label.sk-toggleable__label-arrow:before {color: black;}#sk-8c3694a0-f184-4a3e-b97e-c74b2fb8a29f div.sk-toggleable__content {max-height: 0;max-width: 0;overflow: hidden;text-align: left;background-color: #f0f8ff;}#sk-8c3694a0-f184-4a3e-b97e-c74b2fb8a29f div.sk-toggleable__content pre {margin: 0.2em;color: black;border-radius: 0.25em;background-color: #f0f8ff;}#sk-8c3694a0-f184-4a3e-b97e-c74b2fb8a29f input.sk-toggleable__control:checked~div.sk-toggleable__content {max-height: 200px;max-width: 100%;overflow: auto;}#sk-8c3694a0-f184-4a3e-b97e-c74b2fb8a29f input.sk-toggleable__control:checked~label.sk-toggleable__label-arrow:before {content: \"▾\";}#sk-8c3694a0-f184-4a3e-b97e-c74b2fb8a29f div.sk-estimator input.sk-toggleable__control:checked~label.sk-toggleable__label {background-color: #d4ebff;}#sk-8c3694a0-f184-4a3e-b97e-c74b2fb8a29f div.sk-label input.sk-toggleable__control:checked~label.sk-toggleable__label {background-color: #d4ebff;}#sk-8c3694a0-f184-4a3e-b97e-c74b2fb8a29f input.sk-hidden--visually {border: 0;clip: rect(1px 1px 1px 1px);clip: rect(1px, 1px, 1px, 1px);height: 1px;margin: -1px;overflow: hidden;padding: 0;position: absolute;width: 1px;}#sk-8c3694a0-f184-4a3e-b97e-c74b2fb8a29f div.sk-estimator {font-family: monospace;background-color: #f0f8ff;border: 1px dotted black;border-radius: 0.25em;box-sizing: border-box;margin-bottom: 0.5em;}#sk-8c3694a0-f184-4a3e-b97e-c74b2fb8a29f div.sk-estimator:hover {background-color: #d4ebff;}#sk-8c3694a0-f184-4a3e-b97e-c74b2fb8a29f div.sk-parallel-item::after {content: \"\";width: 100%;border-bottom: 1px solid gray;flex-grow: 1;}#sk-8c3694a0-f184-4a3e-b97e-c74b2fb8a29f div.sk-label:hover label.sk-toggleable__label {background-color: #d4ebff;}#sk-8c3694a0-f184-4a3e-b97e-c74b2fb8a29f div.sk-serial::before {content: \"\";position: absolute;border-left: 1px solid gray;box-sizing: border-box;top: 2em;bottom: 0;left: 50%;}#sk-8c3694a0-f184-4a3e-b97e-c74b2fb8a29f div.sk-serial {display: flex;flex-direction: column;align-items: center;background-color: white;padding-right: 0.2em;padding-left: 0.2em;}#sk-8c3694a0-f184-4a3e-b97e-c74b2fb8a29f div.sk-item {z-index: 1;}#sk-8c3694a0-f184-4a3e-b97e-c74b2fb8a29f div.sk-parallel {display: flex;align-items: stretch;justify-content: center;background-color: white;}#sk-8c3694a0-f184-4a3e-b97e-c74b2fb8a29f div.sk-parallel::before {content: \"\";position: absolute;border-left: 1px solid gray;box-sizing: border-box;top: 2em;bottom: 0;left: 50%;}#sk-8c3694a0-f184-4a3e-b97e-c74b2fb8a29f div.sk-parallel-item {display: flex;flex-direction: column;position: relative;background-color: white;}#sk-8c3694a0-f184-4a3e-b97e-c74b2fb8a29f div.sk-parallel-item:first-child::after {align-self: flex-end;width: 50%;}#sk-8c3694a0-f184-4a3e-b97e-c74b2fb8a29f div.sk-parallel-item:last-child::after {align-self: flex-start;width: 50%;}#sk-8c3694a0-f184-4a3e-b97e-c74b2fb8a29f div.sk-parallel-item:only-child::after {width: 0;}#sk-8c3694a0-f184-4a3e-b97e-c74b2fb8a29f div.sk-dashed-wrapped {border: 1px dashed gray;margin: 0 0.4em 0.5em 0.4em;box-sizing: border-box;padding-bottom: 0.4em;background-color: white;position: relative;}#sk-8c3694a0-f184-4a3e-b97e-c74b2fb8a29f div.sk-label label {font-family: monospace;font-weight: bold;background-color: white;display: inline-block;line-height: 1.2em;}#sk-8c3694a0-f184-4a3e-b97e-c74b2fb8a29f div.sk-label-container {position: relative;z-index: 2;text-align: center;}#sk-8c3694a0-f184-4a3e-b97e-c74b2fb8a29f div.sk-container {/* jupyter's `normalize.less` sets `[hidden] { display: none; }` but bootstrap.min.css set `[hidden] { display: none !important; }` so we also need the `!important` here to be able to override the default hidden behavior on the sphinx rendered scikit-learn.org. See: https://github.com/scikit-learn/scikit-learn/issues/21755 */display: inline-block !important;position: relative;}#sk-8c3694a0-f184-4a3e-b97e-c74b2fb8a29f div.sk-text-repr-fallback {display: none;}</style><div id=\"sk-8c3694a0-f184-4a3e-b97e-c74b2fb8a29f\" class=\"sk-top-container\"><div class=\"sk-text-repr-fallback\"><pre>Pipeline(steps=[(&#x27;kneighborsclassifier&#x27;, KNeighborsClassifier())])</pre><b>Please rerun this cell to show the HTML repr or trust the notebook.</b></div><div class=\"sk-container\" hidden><div class=\"sk-item sk-dashed-wrapped\"><div class=\"sk-label-container\"><div class=\"sk-label sk-toggleable\"><input class=\"sk-toggleable__control sk-hidden--visually\" id=\"8880393a-defe-4d1e-89cc-6a7af6857c18\" type=\"checkbox\" ><label for=\"8880393a-defe-4d1e-89cc-6a7af6857c18\" class=\"sk-toggleable__label sk-toggleable__label-arrow\">Pipeline</label><div class=\"sk-toggleable__content\"><pre>Pipeline(steps=[(&#x27;kneighborsclassifier&#x27;, KNeighborsClassifier())])</pre></div></div></div><div class=\"sk-serial\"><div class=\"sk-item\"><div class=\"sk-estimator sk-toggleable\"><input class=\"sk-toggleable__control sk-hidden--visually\" id=\"6aaab6ba-f439-433e-be62-79a43cba3406\" type=\"checkbox\" ><label for=\"6aaab6ba-f439-433e-be62-79a43cba3406\" class=\"sk-toggleable__label sk-toggleable__label-arrow\">KNeighborsClassifier</label><div class=\"sk-toggleable__content\"><pre>KNeighborsClassifier()</pre></div></div></div></div></div></div></div>"
            ]
          },
          "metadata": {},
          "execution_count": 64
        }
      ],
      "source": [
        "knn_pipe.fit(X_train_processed, y_train)"
      ]
    },
    {
      "cell_type": "markdown",
      "source": [
        "* Save predictions"
      ],
      "metadata": {
        "id": "-NMyku0v8L4D"
      }
    },
    {
      "cell_type": "code",
      "source": [
        "knn_model_accuracy = accuracy_score(y_test, knn_pipe.predict(X_test_processed))\n",
        "print(f'KNN Model Accuracy = {knn_model_accuracy}')"
      ],
      "metadata": {
        "colab": {
          "base_uri": "https://localhost:8080/"
        },
        "id": "cOubKi5TVTIN",
        "outputId": "e13c895a-3d8f-41c3-cca0-f6e244ad6833"
      },
      "execution_count": 66,
      "outputs": [
        {
          "output_type": "stream",
          "name": "stdout",
          "text": [
            "KNN Model Accuracy = 0.9794953944733681\n"
          ]
        }
      ]
    },
    {
      "cell_type": "markdown",
      "source": [
        "### Hypertuning"
      ],
      "metadata": {
        "id": "xKKiwOKdWPAN"
      }
    },
    {
      "cell_type": "code",
      "source": [
        "krange = range(1, 20)\n",
        "k_list = []\n",
        "for k in krange: \n",
        "  knn_pipe = make_pipeline(KNeighborsClassifier(n_neighbors=k))\n",
        "  knn_pipe.fit(X_train_processed, y_train)\n",
        "  score = accuracy_score(y_test, knn_pipe.predict(X_test_processed))\n",
        "  k_list.append(score)"
      ],
      "metadata": {
        "id": "r3nVp3DBWubM"
      },
      "execution_count": 67,
      "outputs": []
    },
    {
      "cell_type": "code",
      "source": [
        "plt.plot(krange, k_list)\n",
        "plt.xlabel('K')\n",
        "plt.ylabel('Score');"
      ],
      "metadata": {
        "colab": {
          "base_uri": "https://localhost:8080/",
          "height": 279
        },
        "id": "5A4fzvu_W4OU",
        "outputId": "7e8342ac-caea-402f-ea2b-897d1050a892"
      },
      "execution_count": 68,
      "outputs": [
        {
          "output_type": "display_data",
          "data": {
            "text/plain": [
              "<Figure size 432x288 with 1 Axes>"
            ],
            "image/png": "[encoded data removed]"
          },
          "metadata": {
            "needs_background": "light"
          }
        }
      ]
    },
    {
      "cell_type": "code",
      "source": [
        "knn_model_4 = make_pipeline(KNeighborsClassifier(n_neighbors=4))\n",
        "knn_model_4.fit(X_train_processed, y_train)"
      ],
      "metadata": {
        "colab": {
          "base_uri": "https://localhost:8080/",
          "height": 91
        },
        "id": "83FTHqX_W9J4",
        "outputId": "75125b93-e71d-4ac9-a843-9d3be59415d7"
      },
      "execution_count": 69,
      "outputs": [
        {
          "output_type": "execute_result",
          "data": {
            "text/plain": [
              "Pipeline(steps=[('kneighborsclassifier', KNeighborsClassifier(n_neighbors=4))])"
            ],
            "text/html": [
              "<style>#sk-5a1f4ddb-d5a9-44b0-b0e3-755416e8b287 {color: black;background-color: white;}#sk-5a1f4ddb-d5a9-44b0-b0e3-755416e8b287 pre{padding: 0;}#sk-5a1f4ddb-d5a9-44b0-b0e3-755416e8b287 div.sk-toggleable {background-color: white;}#sk-5a1f4ddb-d5a9-44b0-b0e3-755416e8b287 label.sk-toggleable__label {cursor: pointer;display: block;width: 100%;margin-bottom: 0;padding: 0.3em;box-sizing: border-box;text-align: center;}#sk-5a1f4ddb-d5a9-44b0-b0e3-755416e8b287 label.sk-toggleable__label-arrow:before {content: \"▸\";float: left;margin-right: 0.25em;color: #696969;}#sk-5a1f4ddb-d5a9-44b0-b0e3-755416e8b287 label.sk-toggleable__label-arrow:hover:before {color: black;}#sk-5a1f4ddb-d5a9-44b0-b0e3-755416e8b287 div.sk-estimator:hover label.sk-toggleable__label-arrow:before {color: black;}#sk-5a1f4ddb-d5a9-44b0-b0e3-755416e8b287 div.sk-toggleable__content {max-height: 0;max-width: 0;overflow: hidden;text-align: left;background-color: #f0f8ff;}#sk-5a1f4ddb-d5a9-44b0-b0e3-755416e8b287 div.sk-toggleable__content pre {margin: 0.2em;color: black;border-radius: 0.25em;background-color: #f0f8ff;}#sk-5a1f4ddb-d5a9-44b0-b0e3-755416e8b287 input.sk-toggleable__control:checked~div.sk-toggleable__content {max-height: 200px;max-width: 100%;overflow: auto;}#sk-5a1f4ddb-d5a9-44b0-b0e3-755416e8b287 input.sk-toggleable__control:checked~label.sk-toggleable__label-arrow:before {content: \"▾\";}#sk-5a1f4ddb-d5a9-44b0-b0e3-755416e8b287 div.sk-estimator input.sk-toggleable__control:checked~label.sk-toggleable__label {background-color: #d4ebff;}#sk-5a1f4ddb-d5a9-44b0-b0e3-755416e8b287 div.sk-label input.sk-toggleable__control:checked~label.sk-toggleable__label {background-color: #d4ebff;}#sk-5a1f4ddb-d5a9-44b0-b0e3-755416e8b287 input.sk-hidden--visually {border: 0;clip: rect(1px 1px 1px 1px);clip: rect(1px, 1px, 1px, 1px);height: 1px;margin: -1px;overflow: hidden;padding: 0;position: absolute;width: 1px;}#sk-5a1f4ddb-d5a9-44b0-b0e3-755416e8b287 div.sk-estimator {font-family: monospace;background-color: #f0f8ff;border: 1px dotted black;border-radius: 0.25em;box-sizing: border-box;margin-bottom: 0.5em;}#sk-5a1f4ddb-d5a9-44b0-b0e3-755416e8b287 div.sk-estimator:hover {background-color: #d4ebff;}#sk-5a1f4ddb-d5a9-44b0-b0e3-755416e8b287 div.sk-parallel-item::after {content: \"\";width: 100%;border-bottom: 1px solid gray;flex-grow: 1;}#sk-5a1f4ddb-d5a9-44b0-b0e3-755416e8b287 div.sk-label:hover label.sk-toggleable__label {background-color: #d4ebff;}#sk-5a1f4ddb-d5a9-44b0-b0e3-755416e8b287 div.sk-serial::before {content: \"\";position: absolute;border-left: 1px solid gray;box-sizing: border-box;top: 2em;bottom: 0;left: 50%;}#sk-5a1f4ddb-d5a9-44b0-b0e3-755416e8b287 div.sk-serial {display: flex;flex-direction: column;align-items: center;background-color: white;padding-right: 0.2em;padding-left: 0.2em;}#sk-5a1f4ddb-d5a9-44b0-b0e3-755416e8b287 div.sk-item {z-index: 1;}#sk-5a1f4ddb-d5a9-44b0-b0e3-755416e8b287 div.sk-parallel {display: flex;align-items: stretch;justify-content: center;background-color: white;}#sk-5a1f4ddb-d5a9-44b0-b0e3-755416e8b287 div.sk-parallel::before {content: \"\";position: absolute;border-left: 1px solid gray;box-sizing: border-box;top: 2em;bottom: 0;left: 50%;}#sk-5a1f4ddb-d5a9-44b0-b0e3-755416e8b287 div.sk-parallel-item {display: flex;flex-direction: column;position: relative;background-color: white;}#sk-5a1f4ddb-d5a9-44b0-b0e3-755416e8b287 div.sk-parallel-item:first-child::after {align-self: flex-end;width: 50%;}#sk-5a1f4ddb-d5a9-44b0-b0e3-755416e8b287 div.sk-parallel-item:last-child::after {align-self: flex-start;width: 50%;}#sk-5a1f4ddb-d5a9-44b0-b0e3-755416e8b287 div.sk-parallel-item:only-child::after {width: 0;}#sk-5a1f4ddb-d5a9-44b0-b0e3-755416e8b287 div.sk-dashed-wrapped {border: 1px dashed gray;margin: 0 0.4em 0.5em 0.4em;box-sizing: border-box;padding-bottom: 0.4em;background-color: white;position: relative;}#sk-5a1f4ddb-d5a9-44b0-b0e3-755416e8b287 div.sk-label label {font-family: monospace;font-weight: bold;background-color: white;display: inline-block;line-height: 1.2em;}#sk-5a1f4ddb-d5a9-44b0-b0e3-755416e8b287 div.sk-label-container {position: relative;z-index: 2;text-align: center;}#sk-5a1f4ddb-d5a9-44b0-b0e3-755416e8b287 div.sk-container {/* jupyter's `normalize.less` sets `[hidden] { display: none; }` but bootstrap.min.css set `[hidden] { display: none !important; }` so we also need the `!important` here to be able to override the default hidden behavior on the sphinx rendered scikit-learn.org. See: https://github.com/scikit-learn/scikit-learn/issues/21755 */display: inline-block !important;position: relative;}#sk-5a1f4ddb-d5a9-44b0-b0e3-755416e8b287 div.sk-text-repr-fallback {display: none;}</style><div id=\"sk-5a1f4ddb-d5a9-44b0-b0e3-755416e8b287\" class=\"sk-top-container\"><div class=\"sk-text-repr-fallback\"><pre>Pipeline(steps=[(&#x27;kneighborsclassifier&#x27;, KNeighborsClassifier(n_neighbors=4))])</pre><b>Please rerun this cell to show the HTML repr or trust the notebook.</b></div><div class=\"sk-container\" hidden><div class=\"sk-item sk-dashed-wrapped\"><div class=\"sk-label-container\"><div class=\"sk-label sk-toggleable\"><input class=\"sk-toggleable__control sk-hidden--visually\" id=\"32622a6e-d09c-41d4-b113-414f5717a212\" type=\"checkbox\" ><label for=\"32622a6e-d09c-41d4-b113-414f5717a212\" class=\"sk-toggleable__label sk-toggleable__label-arrow\">Pipeline</label><div class=\"sk-toggleable__content\"><pre>Pipeline(steps=[(&#x27;kneighborsclassifier&#x27;, KNeighborsClassifier(n_neighbors=4))])</pre></div></div></div><div class=\"sk-serial\"><div class=\"sk-item\"><div class=\"sk-estimator sk-toggleable\"><input class=\"sk-toggleable__control sk-hidden--visually\" id=\"619619a3-9b6e-4afa-aa01-9c9b330a65cc\" type=\"checkbox\" ><label for=\"619619a3-9b6e-4afa-aa01-9c9b330a65cc\" class=\"sk-toggleable__label sk-toggleable__label-arrow\">KNeighborsClassifier</label><div class=\"sk-toggleable__content\"><pre>KNeighborsClassifier(n_neighbors=4)</pre></div></div></div></div></div></div></div>"
            ]
          },
          "metadata": {},
          "execution_count": 69
        }
      ]
    },
    {
      "cell_type": "code",
      "source": [
        "knn_model_accuracy = accuracy_score(y_test, knn_model_4.predict(X_test_processed))\n",
        "print(f'KNN Model Accuracy Score = {knn_model_accuracy}')"
      ],
      "metadata": {
        "colab": {
          "base_uri": "https://localhost:8080/"
        },
        "id": "O07KtiTVYck7",
        "outputId": "570c73e6-e658-4eda-dd26-9de1ed4b2219"
      },
      "execution_count": 70,
      "outputs": [
        {
          "output_type": "stream",
          "name": "stdout",
          "text": [
            "KNN Model Accuracy Score = 0.9798157789347217\n"
          ]
        }
      ]
    },
    {
      "cell_type": "code",
      "source": [
        "knn_parameters = { 'kneighborsclassifier__n_neighbors': [1,2,3,4,5,6,7], \n",
        "                  'kneighborsclassifier__leaf_size': [2, 3, 4, 5,10,15,20,25]}"
      ],
      "metadata": {
        "id": "K2vDEoNiYhkW"
      },
      "execution_count": 71,
      "outputs": []
    },
    {
      "cell_type": "code",
      "source": [
        "knn_grid = GridSearchCV(knn_model_4, knn_parameters)\n",
        "knn_grid.fit(X_train_processed, y_train)"
      ],
      "metadata": {
        "id": "ALhTk6smYkfK"
      },
      "execution_count": null,
      "outputs": []
    },
    {
      "cell_type": "code",
      "source": [
        "knn_grid.best_params_"
      ],
      "metadata": {
        "id": "mdEUtT4EYteL"
      },
      "execution_count": null,
      "outputs": []
    },
    {
      "cell_type": "code",
      "source": [
        "best_knn = knn_grid.best_estimator_"
      ],
      "metadata": {
        "id": "HmUV7b0CYv38"
      },
      "execution_count": null,
      "outputs": []
    },
    {
      "cell_type": "code",
      "source": [
        "knn_train_preds = best_knn.predict(X_train_processed)\n",
        "knn_test_preds = best_knn.predict(X_test_processed)"
      ],
      "metadata": {
        "id": "7e8YL33kWHaC"
      },
      "execution_count": null,
      "outputs": []
    },
    {
      "cell_type": "markdown",
      "source": [
        "* Evaluate KNN model"
      ],
      "metadata": {
        "id": "LnwQbalK8OLg"
      }
    },
    {
      "cell_type": "code",
      "source": [
        "print('KNN Training Metrics\\n')\n",
        "evaluate_classification(y_train, knn_train_preds, average='macro')\n",
        "print('\\n')\n",
        "\n",
        "print('KNN Testing Metrics\\n')\n",
        "evaluate_classification(y_test, knn_test_preds, average='macro')"
      ],
      "metadata": {
        "id": "ubUnSLCt8LCO"
      },
      "execution_count": null,
      "outputs": []
    },
    {
      "cell_type": "markdown",
      "source": [
        "Best model to pick would be the Logistic Regression due to a higher accuracy score. But overall I wouldn't think of choosing this model because the original data is missing a lot. "
      ],
      "metadata": {
        "id": "A5MNthntatUp"
      }
    }
  ],
  "metadata": {
    "colab": {
      "collapsed_sections": [],
      "name": "Travel_Insurance: Modeling.ipynb",
      "provenance": []
    },
    "kernelspec": {
      "display_name": "Python 3",
      "name": "python3"
    },
    "language_info": {
      "name": "python"
    }
  },
  "nbformat": 4,
  "nbformat_minor": 0
}